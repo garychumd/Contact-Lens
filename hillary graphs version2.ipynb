{
 "cells": [
  {
   "cell_type": "code",
   "execution_count": 10,
   "metadata": {},
   "outputs": [
    {
     "data": {
      "image/png": "[encoded data removed]",
      "text/plain": [
       "<Figure size 432x288 with 1 Axes>"
      ]
     },
     "metadata": {
      "needs_background": "light"
     },
     "output_type": "display_data"
    },
    {
     "name": "stdout",
     "output_type": "stream",
     "text": [
      "Coefficients:  [[0.96532136]]\n",
      "Intercept:  [72.46290164]\n"
     ]
    },
    {
     "data": {
      "text/plain": [
       "Text(0, 0.5, 'Age 30 Vision')"
      ]
     },
     "execution_count": 10,
     "metadata": {},
     "output_type": "execute_result"
    },
    {
     "data": {
      "image/png": "[encoded data removed]",
      "text/plain": [
       "<Figure size 432x288 with 1 Axes>"
      ]
     },
     "metadata": {
      "needs_background": "light"
     },
     "output_type": "display_data"
    }
   ],
   "source": [
    "#!/usr/bin/env python\n",
    "# coding: utf-8\n",
    "\n",
    "# In[1]:\n",
    "\n",
    "\n",
    "import matplotlib.pyplot as plt\n",
    "import pandas as pd\n",
    "import pylab as pl\n",
    "import numpy as np\n",
    "get_ipython().run_line_magic('matplotlib', 'inline')\n",
    "\n",
    "#import all the required libraries.  Must run this or functions will not work\n",
    "\n",
    "\n",
    "# In[2]:\n",
    "\n",
    "\n",
    "df = pd.read_csv(\"C:/Users/Cyber 1/Desktop/Data Science/Contact Lens.csv\")\n",
    "\n",
    "\n",
    "# In[3]:\n",
    "\n",
    "\n",
    "df.head()\n",
    "\n",
    "\n",
    "# In[14]:\n",
    "\n",
    "\n",
    "# create a data array only with data with TypeAge30 = 3?\n",
    "\n",
    "Contact = df.loc[df['TypeAt30'] == 3]\n",
    "\n",
    "plt.scatter(Contact.Age18Acuity, Contact.Age30Acuity,  color='purple')\n",
    "plt.xlabel(\"Age 18 Visual Acuity\")\n",
    "plt.ylabel(\"Age 30 Acuity\")\n",
    "plt.title(\"Wearing Both\")\n",
    "plt.show()\n",
    "\n",
    "\n",
    "# In[15]:\n",
    "\n",
    "\n",
    "# split data set into train and test sets. 80% for training. 20% for testing\n",
    "# ~ invert all bits (not function)\n",
    "msk = np.random.rand(len(df)) < 0.8\n",
    "train = df  # assign train to random 80% of test data\n",
    "test = df[~msk]  # assign all data not in msk\n",
    "\n",
    "#import the model\n",
    "from sklearn import linear_model\n",
    "\n",
    "# Train regression model\n",
    "regr = linear_model.LinearRegression()\n",
    "train_x = np.asanyarray(train[['Age18Acuity']])\n",
    "train_y = np.asanyarray(train[['Age30Acuity']])\n",
    "regr.fit (train_x, train_y)\n",
    "\n",
    "# Print the coefficients\n",
    "print ('Coefficients: ', regr.coef_)\n",
    "print ('Intercept: ',regr.intercept_)\n",
    "\n",
    "\n",
    "# In[16]:\n",
    "\n",
    "\n",
    "#print the fit line over the data\n",
    "train = df.loc[df['TypeAt30'] == 3]\n",
    "#print scatter graph of the data\n",
    "plt.scatter(train.Age18Acuity, train.Age30Acuity,  color='purple') \n",
    "\n",
    "#print the fit line\n",
    "plt.plot(train_x, regr.coef_[0][0]*train_x + regr.intercept_[0], '-b')\n",
    "\n",
    "#data label\n",
    "plt.title(\"Wearing Both\")\n",
    "plt.xlabel(\"Age 18 Vision Acuity\")\n",
    "plt.ylabel(\"Age 30 Vision\")\n",
    "\n",
    "\n",
    "# In[ ]:\n"
   ]
  },
  {
   "cell_type": "code",
   "execution_count": 11,
   "metadata": {},
   "outputs": [],
   "source": [
    "#convert string values to integers 0 and 1\n",
    "df['Gender'] = df['Gender'].map({'M': 1, 'F':0, 'O':2})\n"
   ]
  },
  {
   "cell_type": "code",
   "execution_count": 14,
   "metadata": {
    "scrolled": true
   },
   "outputs": [
    {
     "data": {
      "text/html": [
       "<div>\n",
       "<style scoped>\n",
       "    .dataframe tbody tr th:only-of-type {\n",
       "        vertical-align: middle;\n",
       "    }\n",
       "\n",
       "    .dataframe tbody tr th {\n",
       "        vertical-align: top;\n",
       "    }\n",
       "\n",
       "    .dataframe thead th {\n",
       "        text-align: right;\n",
       "    }\n",
       "</style>\n",
       "<table border=\"1\" class=\"dataframe\">\n",
       "  <thead>\n",
       "    <tr style=\"text-align: right;\">\n",
       "      <th></th>\n",
       "      <th>Survery</th>\n",
       "      <th>Age</th>\n",
       "      <th>ZipCode</th>\n",
       "      <th>Gender</th>\n",
       "      <th>CurrentType</th>\n",
       "      <th>CurrentAcuity</th>\n",
       "      <th>InitialAcuity</th>\n",
       "      <th>AgeFirstRx</th>\n",
       "      <th>Age18Acuity</th>\n",
       "      <th>Age30Acuity</th>\n",
       "      <th>TypeAt30</th>\n",
       "      <th>Changed to glasses contact both Lasik</th>\n",
       "      <th>Age when switched</th>\n",
       "      <th>Did not switch</th>\n",
       "      <th>Switch improve vision?</th>\n",
       "      <th>Regret Switching?</th>\n",
       "      <th>note</th>\n",
       "    </tr>\n",
       "  </thead>\n",
       "  <tbody>\n",
       "    <tr>\n",
       "      <th>0</th>\n",
       "      <td>1</td>\n",
       "      <td>48</td>\n",
       "      <td>95757</td>\n",
       "      <td>0</td>\n",
       "      <td>0</td>\n",
       "      <td>0</td>\n",
       "      <td>150</td>\n",
       "      <td>5</td>\n",
       "      <td>700</td>\n",
       "      <td>700</td>\n",
       "      <td>2</td>\n",
       "      <td>2</td>\n",
       "      <td>14.0</td>\n",
       "      <td>NaN</td>\n",
       "      <td>1.0</td>\n",
       "      <td>No</td>\n",
       "      <td>contact, lasik</td>\n",
       "    </tr>\n",
       "    <tr>\n",
       "      <th>1</th>\n",
       "      <td>2</td>\n",
       "      <td>48</td>\n",
       "      <td>95829</td>\n",
       "      <td>1</td>\n",
       "      <td>1</td>\n",
       "      <td>425</td>\n",
       "      <td>125</td>\n",
       "      <td>9</td>\n",
       "      <td>325</td>\n",
       "      <td>350</td>\n",
       "      <td>1</td>\n",
       "      <td>0</td>\n",
       "      <td>NaN</td>\n",
       "      <td>x</td>\n",
       "      <td>NaN</td>\n",
       "      <td>NaN</td>\n",
       "      <td>NaN</td>\n",
       "    </tr>\n",
       "    <tr>\n",
       "      <th>2</th>\n",
       "      <td>3</td>\n",
       "      <td>47</td>\n",
       "      <td>95831</td>\n",
       "      <td>0</td>\n",
       "      <td>1</td>\n",
       "      <td>600</td>\n",
       "      <td>300</td>\n",
       "      <td>14</td>\n",
       "      <td>350</td>\n",
       "      <td>450</td>\n",
       "      <td>1</td>\n",
       "      <td>1</td>\n",
       "      <td>24.0</td>\n",
       "      <td>NaN</td>\n",
       "      <td>0.0</td>\n",
       "      <td>No</td>\n",
       "      <td>NaN</td>\n",
       "    </tr>\n",
       "    <tr>\n",
       "      <th>3</th>\n",
       "      <td>4</td>\n",
       "      <td>76</td>\n",
       "      <td>95829</td>\n",
       "      <td>1</td>\n",
       "      <td>1</td>\n",
       "      <td>550</td>\n",
       "      <td>200</td>\n",
       "      <td>14</td>\n",
       "      <td>300</td>\n",
       "      <td>350</td>\n",
       "      <td>1</td>\n",
       "      <td>0</td>\n",
       "      <td>NaN</td>\n",
       "      <td>x</td>\n",
       "      <td>NaN</td>\n",
       "      <td>NaN</td>\n",
       "      <td>NaN</td>\n",
       "    </tr>\n",
       "    <tr>\n",
       "      <th>4</th>\n",
       "      <td>5</td>\n",
       "      <td>47</td>\n",
       "      <td>94502</td>\n",
       "      <td>0</td>\n",
       "      <td>1</td>\n",
       "      <td>600</td>\n",
       "      <td>70</td>\n",
       "      <td>10</td>\n",
       "      <td>400</td>\n",
       "      <td>550</td>\n",
       "      <td>3</td>\n",
       "      <td>3</td>\n",
       "      <td>17.0</td>\n",
       "      <td>NaN</td>\n",
       "      <td>2.0</td>\n",
       "      <td>No</td>\n",
       "      <td>NaN</td>\n",
       "    </tr>\n",
       "  </tbody>\n",
       "</table>\n",
       "</div>"
      ],
      "text/plain": [
       "   Survery  Age ZipCode  Gender  CurrentType  CurrentAcuity  InitialAcuity  \\\n",
       "0        1   48   95757       0            0              0            150   \n",
       "1        2   48   95829       1            1            425            125   \n",
       "2        3   47   95831       0            1            600            300   \n",
       "3        4   76   95829       1            1            550            200   \n",
       "4        5   47   94502       0            1            600             70   \n",
       "\n",
       "   AgeFirstRx  Age18Acuity  Age30Acuity  TypeAt30  \\\n",
       "0           5          700          700         2   \n",
       "1           9          325          350         1   \n",
       "2          14          350          450         1   \n",
       "3          14          300          350         1   \n",
       "4          10          400          550         3   \n",
       "\n",
       "   Changed to glasses contact both Lasik  Age when switched Did not switch  \\\n",
       "0                                      2               14.0            NaN   \n",
       "1                                      0                NaN              x   \n",
       "2                                      1               24.0            NaN   \n",
       "3                                      0                NaN              x   \n",
       "4                                      3               17.0            NaN   \n",
       "\n",
       "   Switch improve vision? Regret Switching?            note  \n",
       "0                     1.0                No  contact, lasik  \n",
       "1                     NaN               NaN             NaN  \n",
       "2                     0.0                No             NaN  \n",
       "3                     NaN               NaN             NaN  \n",
       "4                     2.0                No             NaN  "
      ]
     },
     "execution_count": 14,
     "metadata": {},
     "output_type": "execute_result"
    }
   ],
   "source": [
    "df.head()"
   ]
  },
  {
   "cell_type": "code",
   "execution_count": 25,
   "metadata": {},
   "outputs": [
    {
     "data": {
      "image/png": "[encoded data removed]",
      "text/plain": [
       "<Figure size 432x288 with 1 Axes>"
      ]
     },
     "metadata": {
      "needs_background": "light"
     },
     "output_type": "display_data"
    }
   ],
   "source": [
    "viz = df[['Age30Acuity']]\n",
    "viz.hist()\n",
    "#data label\n",
    "plt.title(\"Acuity at Age 30- wearing both glasses and contacts\")\n",
    "plt.xlabel(\"Vision Acuity\")\n",
    "plt.ylabel(\"Amount of People\")\n",
    "plt.show()\n",
    "\n"
   ]
  },
  {
   "cell_type": "code",
   "execution_count": 26,
   "metadata": {},
   "outputs": [
    {
     "data": {
      "image/png": "[encoded data removed]",
      "text/plain": [
       "<Figure size 432x288 with 1 Axes>"
      ]
     },
     "metadata": {
      "needs_background": "light"
     },
     "output_type": "display_data"
    }
   ],
   "source": [
    "viz = df[['Age18Acuity']]\n",
    "viz.hist()\n",
    "#data label\n",
    "plt.title(\"Acuity at Age 18- wearing both glasses and contacts\")\n",
    "plt.xlabel(\"Vision Acuity\")\n",
    "plt.ylabel(\"Amount of People\")\n",
    "plt.show()"
   ]
  },
  {
   "cell_type": "code",
   "execution_count": 22,
   "metadata": {},
   "outputs": [
    {
     "data": {
      "image/png": "[encoded data removed]",
      "text/plain": [
       "<Figure size 432x288 with 1 Axes>"
      ]
     },
     "metadata": {},
     "output_type": "display_data"
    },
    {
     "name": "stdout",
     "output_type": "stream",
     "text": [
      "Gender\n"
     ]
    }
   ],
   "source": [
    "labels = 'Female', 'Male', 'Other'\n",
    "sizes = [df.loc[df['Gender'] == 0].shape[0], df.loc[df['Gender'] == 1].shape[0], df.loc[df['Gender'] == 2].shape[0]]\n",
    "explode = (0, 0, 0) # Separate Contact from others\n",
    "plt.pie(sizes, explode=explode, labels=labels, autopct='%1.1f%%', shadow=True, startangle=90)\n",
    "\n",
    "\n",
    "plt.show()\n",
    "print (\"Gender\")"
   ]
  },
  {
   "cell_type": "code",
   "execution_count": null,
   "metadata": {},
   "outputs": [],
   "source": []
  }
 ],
 "metadata": {
  "kernelspec": {
   "display_name": "Python 3",
   "language": "python",
   "name": "python3"
  },
  "language_info": {
   "codemirror_mode": {
    "name": "ipython",
    "version": 3
   },
   "file_extension": ".py",
   "mimetype": "text/x-python",
   "name": "python",
   "nbconvert_exporter": "python",
   "pygments_lexer": "ipython3",
   "version": "3.7.6"
  }
 },
 "nbformat": 4,
 "nbformat_minor": 4
}
