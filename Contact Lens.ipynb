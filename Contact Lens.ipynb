{
 "cells": [
  {
   "cell_type": "code",
   "execution_count": 1,
   "metadata": {},
   "outputs": [],
   "source": [
    "import matplotlib.pyplot as plt\n",
    "import pandas as pd\n",
    "import pylab as pl\n",
    "import numpy as np\n",
    "%matplotlib inline\n",
    "\n",
    "#import all the required libraries.  Must run this or functions will not work\n"
   ]
  },
  {
   "cell_type": "code",
   "execution_count": 2,
   "metadata": {},
   "outputs": [],
   "source": [
    "df = pd.read_csv(\"C:/Users/Gary Chu/Desktop/Data Science/Contact Lens.csv\")\n",
    "# change the \\ to /\n",
    "                 "
   ]
  },
  {
   "cell_type": "code",
   "execution_count": 3,
   "metadata": {
    "scrolled": true
   },
   "outputs": [
    {
     "data": {
      "text/html": [
       "<div>\n",
       "<style scoped>\n",
       "    .dataframe tbody tr th:only-of-type {\n",
       "        vertical-align: middle;\n",
       "    }\n",
       "\n",
       "    .dataframe tbody tr th {\n",
       "        vertical-align: top;\n",
       "    }\n",
       "\n",
       "    .dataframe thead th {\n",
       "        text-align: right;\n",
       "    }\n",
       "</style>\n",
       "<table border=\"1\" class=\"dataframe\">\n",
       "  <thead>\n",
       "    <tr style=\"text-align: right;\">\n",
       "      <th></th>\n",
       "      <th>Survery</th>\n",
       "      <th>Age</th>\n",
       "      <th>ZipCode</th>\n",
       "      <th>Gender</th>\n",
       "      <th>CurrentType</th>\n",
       "      <th>CurrentAcuity</th>\n",
       "      <th>InitialAcuity</th>\n",
       "      <th>AgeFirstRx</th>\n",
       "      <th>Age18Acuity</th>\n",
       "      <th>Age30Acuity</th>\n",
       "      <th>TypeAt30</th>\n",
       "      <th>Changed to glasses contact both Lasik</th>\n",
       "      <th>Age when switched</th>\n",
       "      <th>Did not switch</th>\n",
       "      <th>Switch improve vision?</th>\n",
       "      <th>Regret Switching?</th>\n",
       "      <th>note</th>\n",
       "    </tr>\n",
       "  </thead>\n",
       "  <tbody>\n",
       "    <tr>\n",
       "      <th>0</th>\n",
       "      <td>1</td>\n",
       "      <td>48</td>\n",
       "      <td>95757</td>\n",
       "      <td>F</td>\n",
       "      <td>0</td>\n",
       "      <td>0</td>\n",
       "      <td>150</td>\n",
       "      <td>5</td>\n",
       "      <td>700</td>\n",
       "      <td>700</td>\n",
       "      <td>2</td>\n",
       "      <td>2</td>\n",
       "      <td>14.0</td>\n",
       "      <td>NaN</td>\n",
       "      <td>1.0</td>\n",
       "      <td>No</td>\n",
       "      <td>contact, lasik</td>\n",
       "    </tr>\n",
       "    <tr>\n",
       "      <th>1</th>\n",
       "      <td>2</td>\n",
       "      <td>48</td>\n",
       "      <td>95829</td>\n",
       "      <td>M</td>\n",
       "      <td>1</td>\n",
       "      <td>425</td>\n",
       "      <td>125</td>\n",
       "      <td>9</td>\n",
       "      <td>325</td>\n",
       "      <td>350</td>\n",
       "      <td>1</td>\n",
       "      <td>0</td>\n",
       "      <td>NaN</td>\n",
       "      <td>x</td>\n",
       "      <td>NaN</td>\n",
       "      <td>NaN</td>\n",
       "      <td>NaN</td>\n",
       "    </tr>\n",
       "    <tr>\n",
       "      <th>2</th>\n",
       "      <td>3</td>\n",
       "      <td>47</td>\n",
       "      <td>95831</td>\n",
       "      <td>F</td>\n",
       "      <td>1</td>\n",
       "      <td>600</td>\n",
       "      <td>300</td>\n",
       "      <td>14</td>\n",
       "      <td>350</td>\n",
       "      <td>450</td>\n",
       "      <td>1</td>\n",
       "      <td>1</td>\n",
       "      <td>24.0</td>\n",
       "      <td>NaN</td>\n",
       "      <td>0.0</td>\n",
       "      <td>No</td>\n",
       "      <td>NaN</td>\n",
       "    </tr>\n",
       "    <tr>\n",
       "      <th>3</th>\n",
       "      <td>4</td>\n",
       "      <td>76</td>\n",
       "      <td>95829</td>\n",
       "      <td>M</td>\n",
       "      <td>1</td>\n",
       "      <td>550</td>\n",
       "      <td>200</td>\n",
       "      <td>14</td>\n",
       "      <td>300</td>\n",
       "      <td>350</td>\n",
       "      <td>1</td>\n",
       "      <td>0</td>\n",
       "      <td>NaN</td>\n",
       "      <td>x</td>\n",
       "      <td>NaN</td>\n",
       "      <td>NaN</td>\n",
       "      <td>NaN</td>\n",
       "    </tr>\n",
       "    <tr>\n",
       "      <th>4</th>\n",
       "      <td>5</td>\n",
       "      <td>47</td>\n",
       "      <td>94502</td>\n",
       "      <td>F</td>\n",
       "      <td>1</td>\n",
       "      <td>600</td>\n",
       "      <td>70</td>\n",
       "      <td>10</td>\n",
       "      <td>400</td>\n",
       "      <td>550</td>\n",
       "      <td>3</td>\n",
       "      <td>3</td>\n",
       "      <td>17.0</td>\n",
       "      <td>NaN</td>\n",
       "      <td>2.0</td>\n",
       "      <td>No</td>\n",
       "      <td>NaN</td>\n",
       "    </tr>\n",
       "  </tbody>\n",
       "</table>\n",
       "</div>"
      ],
      "text/plain": [
       "   Survery  Age ZipCode Gender  CurrentType  CurrentAcuity  InitialAcuity  \\\n",
       "0        1   48   95757      F            0              0            150   \n",
       "1        2   48   95829      M            1            425            125   \n",
       "2        3   47   95831      F            1            600            300   \n",
       "3        4   76   95829      M            1            550            200   \n",
       "4        5   47   94502      F            1            600             70   \n",
       "\n",
       "   AgeFirstRx  Age18Acuity  Age30Acuity  TypeAt30  \\\n",
       "0           5          700          700         2   \n",
       "1           9          325          350         1   \n",
       "2          14          350          450         1   \n",
       "3          14          300          350         1   \n",
       "4          10          400          550         3   \n",
       "\n",
       "   Changed to glasses contact both Lasik  Age when switched Did not switch  \\\n",
       "0                                      2               14.0            NaN   \n",
       "1                                      0                NaN              x   \n",
       "2                                      1               24.0            NaN   \n",
       "3                                      0                NaN              x   \n",
       "4                                      3               17.0            NaN   \n",
       "\n",
       "   Switch improve vision? Regret Switching?            note  \n",
       "0                     1.0                No  contact, lasik  \n",
       "1                     NaN               NaN             NaN  \n",
       "2                     0.0                No             NaN  \n",
       "3                     NaN               NaN             NaN  \n",
       "4                     2.0                No             NaN  "
      ]
     },
     "execution_count": 3,
     "metadata": {},
     "output_type": "execute_result"
    }
   ],
   "source": [
    "df.head()\n"
   ]
  },
  {
   "cell_type": "code",
   "execution_count": 4,
   "metadata": {
    "scrolled": true
   },
   "outputs": [
    {
     "name": "stdout",
     "output_type": "stream",
     "text": [
      "<class 'pandas.core.frame.DataFrame'>\n",
      "RangeIndex: 62 entries, 0 to 61\n",
      "Data columns (total 17 columns):\n",
      " #   Column                                 Non-Null Count  Dtype  \n",
      "---  ------                                 --------------  -----  \n",
      " 0   Survery                                62 non-null     int64  \n",
      " 1   Age                                    62 non-null     int64  \n",
      " 2   ZipCode                                62 non-null     object \n",
      " 3   Gender                                 62 non-null     object \n",
      " 4   CurrentType                            62 non-null     int64  \n",
      " 5   CurrentAcuity                          62 non-null     int64  \n",
      " 6   InitialAcuity                          62 non-null     int64  \n",
      " 7   AgeFirstRx                             62 non-null     int64  \n",
      " 8   Age18Acuity                            62 non-null     int64  \n",
      " 9   Age30Acuity                            62 non-null     int64  \n",
      " 10  TypeAt30                               62 non-null     int64  \n",
      " 11  Changed to glasses contact both Lasik  62 non-null     int64  \n",
      " 12  Age when switched                      47 non-null     float64\n",
      " 13  Did not switch                         13 non-null     object \n",
      " 14  Switch improve vision?                 42 non-null     float64\n",
      " 15  Regret Switching?                      37 non-null     object \n",
      " 16  note                                   2 non-null      object \n",
      "dtypes: float64(2), int64(10), object(5)\n",
      "memory usage: 8.4+ KB\n"
     ]
    }
   ],
   "source": [
    "df.info()"
   ]
  },
  {
   "cell_type": "code",
   "execution_count": 5,
   "metadata": {},
   "outputs": [
    {
     "data": {
      "text/html": [
       "<div>\n",
       "<style scoped>\n",
       "    .dataframe tbody tr th:only-of-type {\n",
       "        vertical-align: middle;\n",
       "    }\n",
       "\n",
       "    .dataframe tbody tr th {\n",
       "        vertical-align: top;\n",
       "    }\n",
       "\n",
       "    .dataframe thead th {\n",
       "        text-align: right;\n",
       "    }\n",
       "</style>\n",
       "<table border=\"1\" class=\"dataframe\">\n",
       "  <thead>\n",
       "    <tr style=\"text-align: right;\">\n",
       "      <th></th>\n",
       "      <th>Survery</th>\n",
       "      <th>Age</th>\n",
       "      <th>ZipCode</th>\n",
       "      <th>Gender</th>\n",
       "      <th>CurrentType</th>\n",
       "      <th>CurrentAcuity</th>\n",
       "      <th>InitialAcuity</th>\n",
       "      <th>AgeFirstRx</th>\n",
       "      <th>Age18Acuity</th>\n",
       "      <th>Age30Acuity</th>\n",
       "      <th>TypeAt30</th>\n",
       "      <th>Changed to glasses contact both Lasik</th>\n",
       "      <th>Age when switched</th>\n",
       "      <th>Did not switch</th>\n",
       "      <th>Switch improve vision?</th>\n",
       "      <th>Regret Switching?</th>\n",
       "      <th>note</th>\n",
       "    </tr>\n",
       "  </thead>\n",
       "  <tbody>\n",
       "    <tr>\n",
       "      <th>0</th>\n",
       "      <td>1</td>\n",
       "      <td>48</td>\n",
       "      <td>95757</td>\n",
       "      <td>0</td>\n",
       "      <td>0</td>\n",
       "      <td>0</td>\n",
       "      <td>150</td>\n",
       "      <td>5</td>\n",
       "      <td>700</td>\n",
       "      <td>700</td>\n",
       "      <td>2</td>\n",
       "      <td>2</td>\n",
       "      <td>14.0</td>\n",
       "      <td>NaN</td>\n",
       "      <td>1.0</td>\n",
       "      <td>No</td>\n",
       "      <td>contact, lasik</td>\n",
       "    </tr>\n",
       "    <tr>\n",
       "      <th>1</th>\n",
       "      <td>2</td>\n",
       "      <td>48</td>\n",
       "      <td>95829</td>\n",
       "      <td>1</td>\n",
       "      <td>1</td>\n",
       "      <td>425</td>\n",
       "      <td>125</td>\n",
       "      <td>9</td>\n",
       "      <td>325</td>\n",
       "      <td>350</td>\n",
       "      <td>1</td>\n",
       "      <td>0</td>\n",
       "      <td>NaN</td>\n",
       "      <td>x</td>\n",
       "      <td>NaN</td>\n",
       "      <td>NaN</td>\n",
       "      <td>NaN</td>\n",
       "    </tr>\n",
       "    <tr>\n",
       "      <th>2</th>\n",
       "      <td>3</td>\n",
       "      <td>47</td>\n",
       "      <td>95831</td>\n",
       "      <td>0</td>\n",
       "      <td>1</td>\n",
       "      <td>600</td>\n",
       "      <td>300</td>\n",
       "      <td>14</td>\n",
       "      <td>350</td>\n",
       "      <td>450</td>\n",
       "      <td>1</td>\n",
       "      <td>1</td>\n",
       "      <td>24.0</td>\n",
       "      <td>NaN</td>\n",
       "      <td>0.0</td>\n",
       "      <td>No</td>\n",
       "      <td>NaN</td>\n",
       "    </tr>\n",
       "    <tr>\n",
       "      <th>3</th>\n",
       "      <td>4</td>\n",
       "      <td>76</td>\n",
       "      <td>95829</td>\n",
       "      <td>1</td>\n",
       "      <td>1</td>\n",
       "      <td>550</td>\n",
       "      <td>200</td>\n",
       "      <td>14</td>\n",
       "      <td>300</td>\n",
       "      <td>350</td>\n",
       "      <td>1</td>\n",
       "      <td>0</td>\n",
       "      <td>NaN</td>\n",
       "      <td>x</td>\n",
       "      <td>NaN</td>\n",
       "      <td>NaN</td>\n",
       "      <td>NaN</td>\n",
       "    </tr>\n",
       "    <tr>\n",
       "      <th>4</th>\n",
       "      <td>5</td>\n",
       "      <td>47</td>\n",
       "      <td>94502</td>\n",
       "      <td>0</td>\n",
       "      <td>1</td>\n",
       "      <td>600</td>\n",
       "      <td>70</td>\n",
       "      <td>10</td>\n",
       "      <td>400</td>\n",
       "      <td>550</td>\n",
       "      <td>3</td>\n",
       "      <td>3</td>\n",
       "      <td>17.0</td>\n",
       "      <td>NaN</td>\n",
       "      <td>2.0</td>\n",
       "      <td>No</td>\n",
       "      <td>NaN</td>\n",
       "    </tr>\n",
       "    <tr>\n",
       "      <th>5</th>\n",
       "      <td>6</td>\n",
       "      <td>47</td>\n",
       "      <td>37087</td>\n",
       "      <td>0</td>\n",
       "      <td>1</td>\n",
       "      <td>40</td>\n",
       "      <td>225</td>\n",
       "      <td>42</td>\n",
       "      <td>160</td>\n",
       "      <td>160</td>\n",
       "      <td>1</td>\n",
       "      <td>0</td>\n",
       "      <td>NaN</td>\n",
       "      <td>x</td>\n",
       "      <td>NaN</td>\n",
       "      <td>NaN</td>\n",
       "      <td>NaN</td>\n",
       "    </tr>\n",
       "  </tbody>\n",
       "</table>\n",
       "</div>"
      ],
      "text/plain": [
       "   Survery  Age ZipCode  Gender  CurrentType  CurrentAcuity  InitialAcuity  \\\n",
       "0        1   48   95757       0            0              0            150   \n",
       "1        2   48   95829       1            1            425            125   \n",
       "2        3   47   95831       0            1            600            300   \n",
       "3        4   76   95829       1            1            550            200   \n",
       "4        5   47   94502       0            1            600             70   \n",
       "5        6   47   37087       0            1             40            225   \n",
       "\n",
       "   AgeFirstRx  Age18Acuity  Age30Acuity  TypeAt30  \\\n",
       "0           5          700          700         2   \n",
       "1           9          325          350         1   \n",
       "2          14          350          450         1   \n",
       "3          14          300          350         1   \n",
       "4          10          400          550         3   \n",
       "5          42          160          160         1   \n",
       "\n",
       "   Changed to glasses contact both Lasik  Age when switched Did not switch  \\\n",
       "0                                      2               14.0            NaN   \n",
       "1                                      0                NaN              x   \n",
       "2                                      1               24.0            NaN   \n",
       "3                                      0                NaN              x   \n",
       "4                                      3               17.0            NaN   \n",
       "5                                      0                NaN              x   \n",
       "\n",
       "   Switch improve vision? Regret Switching?            note  \n",
       "0                     1.0                No  contact, lasik  \n",
       "1                     NaN               NaN             NaN  \n",
       "2                     0.0                No             NaN  \n",
       "3                     NaN               NaN             NaN  \n",
       "4                     2.0                No             NaN  \n",
       "5                     NaN               NaN             NaN  "
      ]
     },
     "execution_count": 5,
     "metadata": {},
     "output_type": "execute_result"
    }
   ],
   "source": [
    "#convert string values to integers 0 and 1\n",
    "df['Gender'] = df['Gender'].map({'M': 1, 'F':0, 'O':2})\n",
    "\n",
    "df.head(6)\n"
   ]
  },
  {
   "cell_type": "code",
   "execution_count": 6,
   "metadata": {},
   "outputs": [
    {
     "data": {
      "image/png": "[encoded data removed]",
      "text/plain": [
       "<Figure size 432x288 with 1 Axes>"
      ]
     },
     "metadata": {},
     "output_type": "display_data"
    }
   ],
   "source": [
    "\n",
    "labels = 'Male', 'Female', 'Other'\n",
    "sizes = [df.loc[df['Gender'] == 1].shape[0], df.loc[df['Gender'] == 0].shape[0], df.loc[df['Gender'] == 2].shape[0]]\n",
    "explode = (0, 0.1, 0) # Separate Female from Male\n",
    "plt.pie(sizes, explode=explode, labels=labels, autopct='%1.1f%%', shadow=True, startangle=90)\n",
    "\n",
    "plt.show()"
   ]
  },
  {
   "cell_type": "code",
   "execution_count": 7,
   "metadata": {},
   "outputs": [
    {
     "data": {
      "image/png": "[encoded data removed]",
      "text/plain": [
       "<Figure size 432x288 with 1 Axes>"
      ]
     },
     "metadata": {},
     "output_type": "display_data"
    },
    {
     "name": "stdout",
     "output_type": "stream",
     "text": [
      "At Age 30\n"
     ]
    }
   ],
   "source": [
    "labels = 'Glasses', 'Contact', 'Both'\n",
    "sizes = [df.loc[df['TypeAt30'] == 1].shape[0], df.loc[df['TypeAt30'] == 2].shape[0], df.loc[df['TypeAt30'] == 3].shape[0]]\n",
    "explode = (0, 0.1, 0) # Separate Contact from others\n",
    "plt.pie(sizes, explode=explode, labels=labels, autopct='%1.1f%%', shadow=True, startangle=90)\n",
    "\n",
    "\n",
    "plt.show()\n",
    "print (\"At Age 30\")"
   ]
  },
  {
   "cell_type": "code",
   "execution_count": 8,
   "metadata": {},
   "outputs": [],
   "source": [
    "# load glasses at age 30\n",
    "g30df = pd.read_csv(\"C:/Users/Gary Chu/Desktop/Data Science/Glasses30.csv\")\n",
    "\n",
    "# load contact at age 30\n",
    "c30df = pd.read_csv(\"C:/Users/Gary Chu/Desktop/Data Science/Contact30.csv\")\n",
    "\n",
    "# load both at age 30\n",
    "b30df = pd.read_csv(\"C:/Users/Gary Chu/Desktop/Data Science/Both30.csv\")\n"
   ]
  },
  {
   "cell_type": "code",
   "execution_count": 9,
   "metadata": {},
   "outputs": [
    {
     "data": {
      "image/png": "[encoded data removed]",
      "text/plain": [
       "<Figure size 432x288 with 1 Axes>"
      ]
     },
     "metadata": {
      "needs_background": "light"
     },
     "output_type": "display_data"
    }
   ],
   "source": [
    "# plot scatter graph with relationship with vision at 18 to vision at 30, overall, incluidng all data\n",
    "\n",
    "plt.scatter(df.Age18Acuity, df.Age30Acuity,  color='blue')\n",
    "plt.xlabel(\"Age 18 Visual Acuity - Overall\")\n",
    "plt.ylabel(\"Age 30 Acuity\")\n",
    "plt.show()\n",
    "\n"
   ]
  },
  {
   "cell_type": "code",
   "execution_count": 10,
   "metadata": {},
   "outputs": [
    {
     "data": {
      "image/png": "[encoded data removed]",
      "text/plain": [
       "<Figure size 432x288 with 1 Axes>"
      ]
     },
     "metadata": {
      "needs_background": "light"
     },
     "output_type": "display_data"
    }
   ],
   "source": [
    "# plot scatter graph with relationship with vision at 18 to vision at 30 - Glasses at age 30\n",
    "\n",
    "\n",
    "plt.scatter(g30df.Age18Acuity, g30df.Age30Acuity,  color='green')\n",
    "plt.xlabel(\"Age 18 Visual Acuity - Glasses at 30\")\n",
    "plt.ylabel(\"Age 30 Acuity\")\n",
    "plt.show()\n"
   ]
  },
  {
   "cell_type": "code",
   "execution_count": 11,
   "metadata": {},
   "outputs": [
    {
     "data": {
      "image/png": "[encoded data removed]",
      "text/plain": [
       "<Figure size 432x288 with 1 Axes>"
      ]
     },
     "metadata": {
      "needs_background": "light"
     },
     "output_type": "display_data"
    }
   ],
   "source": [
    "# plot scatter graph with relationship with vision at 18 to vision at 30 - Contact at age 30\n",
    "\n",
    "plt.scatter(c30df.Age18Acuity, c30df.Age30Acuity,  color='red')\n",
    "plt.xlabel(\"Age 18 Visual Acuity - Contact at 30\")\n",
    "plt.ylabel(\"Age 30 Acuity\")\n",
    "plt.show()"
   ]
  },
  {
   "cell_type": "code",
   "execution_count": 12,
   "metadata": {},
   "outputs": [
    {
     "data": {
      "image/png": "[encoded data removed]",
      "text/plain": [
       "<Figure size 432x288 with 1 Axes>"
      ]
     },
     "metadata": {
      "needs_background": "light"
     },
     "output_type": "display_data"
    }
   ],
   "source": [
    "# plot scatter graph with relationship with vision at 18 to vision at 30 - Both at age 30\n",
    "\n",
    "plt.scatter(b30df.Age18Acuity, b30df.Age30Acuity,  color='black')\n",
    "plt.xlabel(\"Age 18 Visual Acuity - Both Contact & Glasses at 30\")\n",
    "plt.ylabel(\"Age 30 Acuity\")\n",
    "plt.show()"
   ]
  },
  {
   "cell_type": "markdown",
   "metadata": {},
   "source": [
    "# Training a Simple Linear Regression Model"
   ]
  },
  {
   "cell_type": "code",
   "execution_count": 22,
   "metadata": {},
   "outputs": [
    {
     "name": "stdout",
     "output_type": "stream",
     "text": [
      "Coefficients:  [[0.96532136]]\n",
      "Intercept:  [72.46290164]\n"
     ]
    }
   ],
   "source": [
    "# len() returns length of the string\n",
    "# split data set into train and test sets. 80% for training. 20% for testing\n",
    "# ~ invert all bits (not function)\n",
    "#msk = np.random.rand(len(df)) < 0.8\n",
    "#train = df[msk]  # assign train to random 80% of test data\n",
    "#test = df[~msk]  # assign all data not in msk\n",
    "\n",
    "testA = df # creat a new data frame\n",
    "\n",
    "#import the model\n",
    "from sklearn import linear_model\n",
    "\n",
    "# Train regression model\n",
    "regr = linear_model.LinearRegression()\n",
    "testA_x = np.asanyarray(testA[['Age18Acuity']])\n",
    "testA_y = np.asanyarray(testA[['Age30Acuity']])\n",
    "regr.fit (testA_x, testA_y)\n",
    "\n",
    "# Print the coefficients\n",
    "print ('Coefficients: ', regr.coef_)\n",
    "print ('Intercept: ',regr.intercept_)"
   ]
  },
  {
   "cell_type": "code",
   "execution_count": 25,
   "metadata": {
    "scrolled": true
   },
   "outputs": [
    {
     "data": {
      "text/plain": [
       "Text(0.5, 1.0, 'Visual Acuity - All Data')"
      ]
     },
     "execution_count": 25,
     "metadata": {},
     "output_type": "execute_result"
    },
    {
     "data": {
      "image/png": "[encoded data removed]",
      "text/plain": [
       "<Figure size 432x288 with 1 Axes>"
      ]
     },
     "metadata": {
      "needs_background": "light"
     },
     "output_type": "display_data"
    }
   ],
   "source": [
    "#print the fit line over the data\n",
    "\n",
    "#print scatter graph of the data\n",
    "plt.scatter(testA.Age18Acuity, testA.Age30Acuity,  color='blue') \n",
    "\n",
    "#print the fit line\n",
    "plt.plot(testA_x, regr.coef_[0][0]*testA_x + regr.intercept_[0], '-r')\n",
    "\n",
    "#data label\n",
    "plt.xlabel(\"Age 18 Vision Acuity\")\n",
    "plt.ylabel(\"Age 30 Vision\")\n",
    "plt.title(\"Visual Acuity - All Data\")"
   ]
  },
  {
   "cell_type": "markdown",
   "metadata": {},
   "source": [
    "\n",
    "# Data for Overall. Include Every Data\n"
   ]
  },
  {
   "cell_type": "code",
   "execution_count": 55,
   "metadata": {},
   "outputs": [
    {
     "data": {
      "image/png": "[encoded data removed]",
      "text/plain": [
       "<Figure size 432x288 with 1 Axes>"
      ]
     },
     "metadata": {},
     "output_type": "display_data"
    },
    {
     "data": {
      "image/png": "[encoded data removed]",
      "text/plain": [
       "<Figure size 432x288 with 2 Axes>"
      ]
     },
     "metadata": {
      "needs_background": "light"
     },
     "output_type": "display_data"
    },
    {
     "data": {
      "image/png": "[encoded data removed]",
      "text/plain": [
       "<Figure size 432x288 with 1 Axes>"
      ]
     },
     "metadata": {
      "needs_background": "light"
     },
     "output_type": "display_data"
    },
    {
     "name": "stdout",
     "output_type": "stream",
     "text": [
      "Coefficients:  [[0.96532136]]\n",
      "Intercept:  [72.46290164]\n"
     ]
    }
   ],
   "source": [
    "# Import all librarys\n",
    "import matplotlib.pyplot as plt\n",
    "import pandas as pd\n",
    "import pylab as pl\n",
    "import numpy as np\n",
    "%matplotlib inline\n",
    "\n",
    "#import the model\n",
    "from sklearn import linear_model\n",
    "\n",
    "#Load Data File\n",
    "df = pd.read_csv(\"C:/Users/Gary Chu/Desktop/Data Science/Contact Lens.csv\")\n",
    "# change the \\ to /\n",
    "\n",
    "#convert string values to integers 0 and 1\n",
    "df['Gender'] = df['Gender'].map({'M': 1, 'F':0, 'O':2})\n",
    "\n",
    "\n",
    "#Assign new data file, 1 = glasses, 2 = contact, 3 = back and forth \n",
    "#testA = df.loc[df['TypeAt30'] == 2]\n",
    "\n",
    "testA = df # copy from df. since this run we are counting everyone, 1,2,3\n",
    "\n",
    "#Display Gender in pie chart\n",
    "labels = 'Male', 'Female', 'Other'\n",
    "sizes = [df.loc[df['Gender'] == 1].shape[0], df.loc[df['Gender'] == 0].shape[0], df.loc[df['Gender'] == 2].shape[0]]\n",
    "explode = (0, 0, 0) # Separate Female from Male\n",
    "plt.pie(sizes, explode=explode, labels=labels, autopct='%1.1f%%', shadow=True, startangle=90)\n",
    "plt.title(\"Visual Acuity - All Data\")\n",
    "plt.show()\n",
    "\n",
    "# plot, alphabetical order of the colum name\n",
    "viz = testA[['Age30Acuity','Age18Acuity']]\n",
    "viz.hist()\n",
    "plt.show()\n",
    "\n",
    "\n",
    "# Train regression model\n",
    "regr = linear_model.LinearRegression()\n",
    "testA_x = np.asanyarray(testA[['Age18Acuity']])\n",
    "testA_y = np.asanyarray(testA[['Age30Acuity']])\n",
    "regr.fit (testA_x, testA_y)\n",
    "\n",
    "#print the fit line over the data\n",
    "\n",
    "#print scatter graph of the data\n",
    "plt.scatter(testA.Age18Acuity, testA.Age30Acuity,  color='blue') \n",
    "\n",
    "#print the fit line\n",
    "plt.plot(testA_x, regr.coef_[0][0]*testA_x + regr.intercept_[0], '-r')\n",
    "\n",
    "#data label\n",
    "plt.xlabel(\"Age 18 Vision Acuity\")\n",
    "plt.ylabel(\"Age 30 Vision\")\n",
    "plt.title(\"Visual Acuity - All Data\")\n",
    "plt.show()\n",
    "\n",
    "# Print the coefficients\n",
    "print ('Coefficients: ', regr.coef_)\n",
    "print ('Intercept: ',regr.intercept_)\n",
    "\n",
    "\n",
    "# assign coefficient data\n",
    "AllCoe = regr.coef_\n",
    "AllInt = regr.intercept_\n"
   ]
  },
  {
   "cell_type": "markdown",
   "metadata": {},
   "source": [
    "# Visual Acuity - Wearing Glasses at Age 30"
   ]
  },
  {
   "cell_type": "code",
   "execution_count": 56,
   "metadata": {},
   "outputs": [
    {
     "data": {
      "image/png": "[encoded data removed]",
      "text/plain": [
       "<Figure size 432x288 with 1 Axes>"
      ]
     },
     "metadata": {},
     "output_type": "display_data"
    },
    {
     "data": {
      "image/png": "[encoded data removed]",
      "text/plain": [
       "<Figure size 432x288 with 2 Axes>"
      ]
     },
     "metadata": {
      "needs_background": "light"
     },
     "output_type": "display_data"
    },
    {
     "data": {
      "image/png": "[encoded data removed]",
      "text/plain": [
       "<Figure size 432x288 with 1 Axes>"
      ]
     },
     "metadata": {
      "needs_background": "light"
     },
     "output_type": "display_data"
    },
    {
     "name": "stdout",
     "output_type": "stream",
     "text": [
      "Coefficients:  [[1.16975562]]\n",
      "Intercept:  [21.48083317]\n"
     ]
    }
   ],
   "source": [
    "# Import all librarys\n",
    "import matplotlib.pyplot as plt\n",
    "import pandas as pd\n",
    "import pylab as pl\n",
    "import numpy as np\n",
    "%matplotlib inline\n",
    "\n",
    "#import the model\n",
    "from sklearn import linear_model\n",
    "\n",
    "#Load Data File\n",
    "df = pd.read_csv(\"C:/Users/Gary Chu/Desktop/Data Science/Contact Lens.csv\")\n",
    "# change the \\ to /\n",
    "\n",
    "#convert string values to integers 0 and 1\n",
    "df['Gender'] = df['Gender'].map({'M': 1, 'F':0, 'O':2})\n",
    "\n",
    "\n",
    "#Assign new data file, 1 = glasses, 2 = contact, 3 = back and forth \n",
    "testA = df.loc[df['TypeAt30'] == 1] # wearing glasses at age 30 only\n",
    "\n",
    "#Display Gender in pie chart\n",
    "labels = 'Male', 'Female', 'Other'\n",
    "sizes = [df.loc[df['Gender'] == 1].shape[0], df.loc[df['Gender'] == 0].shape[0], df.loc[df['Gender'] == 2].shape[0]]\n",
    "explode = (0, 0, 0) # Separate Female from Male\n",
    "plt.pie(sizes, explode=explode, labels=labels, autopct='%1.1f%%', shadow=True, startangle=90)\n",
    "plt.title(\"Visual Acuity - Wearing Glasses AT Age 30\")\n",
    "plt.show()\n",
    "\n",
    "\n",
    "# plot, alphabetical order of the colum name\n",
    "viz = testA[['Age30Acuity','Age18Acuity']]\n",
    "viz.hist()\n",
    "plt.show()\n",
    "\n",
    "\n",
    "# Train regression model\n",
    "regr = linear_model.LinearRegression()\n",
    "testA_x = np.asanyarray(testA[['Age18Acuity']])\n",
    "testA_y = np.asanyarray(testA[['Age30Acuity']])\n",
    "regr.fit (testA_x, testA_y)\n",
    "\n",
    "#print the fit line over the data\n",
    "\n",
    "#print scatter graph of the data\n",
    "plt.scatter(testA.Age18Acuity, testA.Age30Acuity,  color='blue') \n",
    "\n",
    "#print the fit line\n",
    "plt.plot(testA_x, regr.coef_[0][0]*testA_x + regr.intercept_[0], '-r')\n",
    "\n",
    "#data label\n",
    "plt.xlabel(\"Age 18 Vision Acuity\")\n",
    "plt.ylabel(\"Age 30 Vision\")\n",
    "plt.title(\"Visual Acuity - Wearing Glasses AT Age 30\")\n",
    "plt.show()\n",
    "\n",
    "# Print the coefficients\n",
    "print ('Coefficients: ', regr.coef_)\n",
    "print ('Intercept: ',regr.intercept_)\n",
    "\n",
    "\n",
    "# assign coefficient data\n",
    "GlassesCoe = regr.coef_\n",
    "GlassesInt = regr.intercept_\n"
   ]
  },
  {
   "cell_type": "code",
   "execution_count": 43,
   "metadata": {},
   "outputs": [],
   "source": [
    "#Visual Acuity at Age 30 - Wearing Contact Only\n"
   ]
  },
  {
   "cell_type": "code",
   "execution_count": 57,
   "metadata": {},
   "outputs": [
    {
     "data": {
      "image/png": "[encoded data removed]",
      "text/plain": [
       "<Figure size 432x288 with 1 Axes>"
      ]
     },
     "metadata": {},
     "output_type": "display_data"
    },
    {
     "data": {
      "image/png": "[encoded data removed]",
      "text/plain": [
       "<Figure size 432x288 with 2 Axes>"
      ]
     },
     "metadata": {
      "needs_background": "light"
     },
     "output_type": "display_data"
    },
    {
     "data": {
      "image/png": "[encoded data removed]",
      "text/plain": [
       "<Figure size 432x288 with 1 Axes>"
      ]
     },
     "metadata": {
      "needs_background": "light"
     },
     "output_type": "display_data"
    },
    {
     "name": "stdout",
     "output_type": "stream",
     "text": [
      "Coefficients:  [[1.0947216]]\n",
      "Intercept:  [28.78622351]\n"
     ]
    }
   ],
   "source": [
    "# Import all librarys\n",
    "import matplotlib.pyplot as plt\n",
    "import pandas as pd\n",
    "import pylab as pl\n",
    "import numpy as np\n",
    "%matplotlib inline\n",
    "\n",
    "#import the model\n",
    "from sklearn import linear_model\n",
    "\n",
    "#Load Data File\n",
    "df = pd.read_csv(\"C:/Users/Gary Chu/Desktop/Data Science/Contact Lens.csv\")\n",
    "# change the \\ to /\n",
    "\n",
    "#convert string values to integers 0 and 1\n",
    "df['Gender'] = df['Gender'].map({'M': 1, 'F':0, 'O':2})\n",
    "\n",
    "\n",
    "#Assign new data file, 1 = glasses, 2 = contact, 3 = back and forth \n",
    "testA = df.loc[df['TypeAt30'] == 2] # wearing glasses at age 30 only\n",
    "\n",
    "#Display Gender in pie chart\n",
    "labels = 'Male', 'Female', 'Other'\n",
    "sizes = [df.loc[df['Gender'] == 1].shape[0], df.loc[df['Gender'] == 0].shape[0], df.loc[df['Gender'] == 2].shape[0]]\n",
    "explode = (0, 0, 0) # Separate Female from Male\n",
    "plt.pie(sizes, explode=explode, labels=labels, autopct='%1.1f%%', shadow=True, startangle=90)\n",
    "plt.title(\"Visual Acuity - Wearing Only Contact AT Age 30\")\n",
    "plt.show()\n",
    "\n",
    "\n",
    "# plot, alphabetical order of the colum name\n",
    "viz = testA[['Age30Acuity','Age18Acuity']]\n",
    "viz.hist()\n",
    "plt.show()\n",
    "\n",
    "\n",
    "# Train regression model\n",
    "regr = linear_model.LinearRegression()\n",
    "testA_x = np.asanyarray(testA[['Age18Acuity']])\n",
    "testA_y = np.asanyarray(testA[['Age30Acuity']])\n",
    "regr.fit (testA_x, testA_y)\n",
    "\n",
    "#print the fit line over the data\n",
    "\n",
    "#print scatter graph of the data\n",
    "plt.scatter(testA.Age18Acuity, testA.Age30Acuity,  color='blue') \n",
    "\n",
    "#print the fit line\n",
    "plt.plot(testA_x, regr.coef_[0][0]*testA_x + regr.intercept_[0], '-r')\n",
    "\n",
    "#data label\n",
    "plt.xlabel(\"Age 18 Vision Acuity\")\n",
    "plt.ylabel(\"Age 30 Vision\")\n",
    "plt.title(\"Visual Acuity - Wearing Only Contact AT Age 30\")\n",
    "plt.show()\n",
    "\n",
    "# Print the coefficients\n",
    "print ('Coefficients: ', regr.coef_)\n",
    "print ('Intercept: ',regr.intercept_)\n",
    "\n",
    "# assign coefficient data\n",
    "ContactCoe = regr.coef_\n",
    "ContactInt = regr.intercept_\n"
   ]
  },
  {
   "cell_type": "markdown",
   "metadata": {},
   "source": [
    "# Wearing Both Glasses and Contact at Age 30\n"
   ]
  },
  {
   "cell_type": "code",
   "execution_count": 58,
   "metadata": {
    "scrolled": false
   },
   "outputs": [
    {
     "data": {
      "image/png": "[encoded data removed]",
      "text/plain": [
       "<Figure size 432x288 with 1 Axes>"
      ]
     },
     "metadata": {},
     "output_type": "display_data"
    },
    {
     "data": {
      "image/png": "[encoded data removed]",
      "text/plain": [
       "<Figure size 432x288 with 2 Axes>"
      ]
     },
     "metadata": {
      "needs_background": "light"
     },
     "output_type": "display_data"
    },
    {
     "data": {
      "image/png": "[encoded data removed]",
      "text/plain": [
       "<Figure size 432x288 with 1 Axes>"
      ]
     },
     "metadata": {
      "needs_background": "light"
     },
     "output_type": "display_data"
    },
    {
     "name": "stdout",
     "output_type": "stream",
     "text": [
      "Coefficients:  [[0.67554578]]\n",
      "Intercept:  [163.57059142]\n"
     ]
    }
   ],
   "source": [
    "# Import all librarys\n",
    "import matplotlib.pyplot as plt\n",
    "import pandas as pd\n",
    "import pylab as pl\n",
    "import numpy as np\n",
    "%matplotlib inline\n",
    "\n",
    "#import the model\n",
    "from sklearn import linear_model\n",
    "\n",
    "#Load Data File\n",
    "df = pd.read_csv(\"C:/Users/Gary Chu/Desktop/Data Science/Contact Lens.csv\")\n",
    "# change the \\ to /\n",
    "\n",
    "#convert string values to integers 0 and 1\n",
    "df['Gender'] = df['Gender'].map({'M': 1, 'F':0, 'O':2})\n",
    "\n",
    "\n",
    "#Assign new data file, 1 = glasses, 2 = contact, 3 = back and forth \n",
    "testA = df.loc[df['TypeAt30'] == 3] # wearing glasses at age 30 only\n",
    "\n",
    "#Display Gender in pie chart\n",
    "labels = 'Male', 'Female', 'Other'\n",
    "sizes = [df.loc[df['Gender'] == 1].shape[0], df.loc[df['Gender'] == 0].shape[0], df.loc[df['Gender'] == 2].shape[0]]\n",
    "explode = (0, 0, 0) # Separate Female from Male\n",
    "plt.pie(sizes, explode=explode, labels=labels, autopct='%1.1f%%', shadow=True, startangle=90)\n",
    "plt.title(\"Visual Acuity - Wearing Both Glasses & Contact AT Age 30\")\n",
    "plt.show()\n",
    "\n",
    "\n",
    "# plot, alphabetical order of the colum name\n",
    "viz = testA[['Age30Acuity','Age18Acuity']]\n",
    "viz.hist()\n",
    "plt.show()\n",
    "\n",
    "\n",
    "# Train regression model\n",
    "regr = linear_model.LinearRegression()\n",
    "testA_x = np.asanyarray(testA[['Age18Acuity']])\n",
    "testA_y = np.asanyarray(testA[['Age30Acuity']])\n",
    "regr.fit (testA_x, testA_y)\n",
    "\n",
    "#print the fit line over the data\n",
    "\n",
    "#print scatter graph of the data\n",
    "plt.scatter(testA.Age18Acuity, testA.Age30Acuity,  color='blue') \n",
    "\n",
    "#print the fit line\n",
    "plt.plot(testA_x, regr.coef_[0][0]*testA_x + regr.intercept_[0], '-r')\n",
    "\n",
    "#data label\n",
    "plt.xlabel(\"Age 18 Vision Acuity\")\n",
    "plt.ylabel(\"Age 30 Vision\")\n",
    "plt.title(\"Visual Acuity - Wearing Both Glasses & Contact AT Age 30\")\n",
    "plt.show()\n",
    "\n",
    "# Print the coefficients\n",
    "print ('Coefficients: ', regr.coef_)\n",
    "print ('Intercept: ',regr.intercept_)\n",
    "\n",
    "# assign coefficient data\n",
    "BothCoe = regr.coef_\n",
    "BOthInt = regr.intercept_\n"
   ]
  },
  {
   "cell_type": "markdown",
   "metadata": {},
   "source": [
    "# Wearing Both at Age 30 Without Lasik"
   ]
  },
  {
   "cell_type": "code",
   "execution_count": 60,
   "metadata": {},
   "outputs": [
    {
     "data": {
      "image/png": "[encoded data removed]",
      "text/plain": [
       "<Figure size 432x288 with 1 Axes>"
      ]
     },
     "metadata": {},
     "output_type": "display_data"
    },
    {
     "data": {
      "image/png": "[encoded data removed]",
      "text/plain": [
       "<Figure size 432x288 with 2 Axes>"
      ]
     },
     "metadata": {
      "needs_background": "light"
     },
     "output_type": "display_data"
    },
    {
     "data": {
      "image/png": "[encoded data removed]",
      "text/plain": [
       "<Figure size 432x288 with 1 Axes>"
      ]
     },
     "metadata": {
      "needs_background": "light"
     },
     "output_type": "display_data"
    },
    {
     "name": "stdout",
     "output_type": "stream",
     "text": [
      "Coefficients:  [[1.12235063]]\n",
      "Intercept:  [65.06368165]\n"
     ]
    }
   ],
   "source": [
    "# Import all librarys\n",
    "import matplotlib.pyplot as plt\n",
    "import pandas as pd\n",
    "import pylab as pl\n",
    "import numpy as np\n",
    "%matplotlib inline\n",
    "\n",
    "#import the model\n",
    "from sklearn import linear_model\n",
    "\n",
    "#Load Data File\n",
    "df = pd.read_csv(\"C:/Users/Gary Chu/Desktop/Data Science/Contact LensA.csv\")\n",
    "# change the \\ to /\n",
    "\n",
    "#convert string values to integers 0 and 1\n",
    "df['Gender'] = df['Gender'].map({'M': 1, 'F':0, 'O':2})\n",
    "\n",
    "\n",
    "#Assign new data file, 1 = glasses, 2 = contact, 3 = back and forth \n",
    "testA = df.loc[df['TypeAt30'] == 3] # wearing glasses at age 30 only\n",
    "\n",
    "#Display Gender in pie chart\n",
    "labels = 'Male', 'Female', 'Other'\n",
    "sizes = [df.loc[df['Gender'] == 1].shape[0], df.loc[df['Gender'] == 0].shape[0], df.loc[df['Gender'] == 2].shape[0]]\n",
    "explode = (0, 0, 0) # Separate Female from Male\n",
    "plt.pie(sizes, explode=explode, labels=labels, autopct='%1.1f%%', shadow=True, startangle=90)\n",
    "plt.title(\"Visual Acuity - Wearing Both AT Age 30 Without Data From Lasik\")\n",
    "plt.show()\n",
    "\n",
    "\n",
    "# plot, alphabetical order of the colum name\n",
    "viz = testA[['Age30Acuity','Age18Acuity']]\n",
    "viz.hist()\n",
    "plt.show()\n",
    "\n",
    "\n",
    "# Train regression model\n",
    "regr = linear_model.LinearRegression()\n",
    "testA_x = np.asanyarray(testA[['Age18Acuity']])\n",
    "testA_y = np.asanyarray(testA[['Age30Acuity']])\n",
    "regr.fit (testA_x, testA_y)\n",
    "\n",
    "#print the fit line over the data\n",
    "\n",
    "#print scatter graph of the data\n",
    "plt.scatter(testA.Age18Acuity, testA.Age30Acuity,  color='blue') \n",
    "\n",
    "#print the fit line\n",
    "plt.plot(testA_x, regr.coef_[0][0]*testA_x + regr.intercept_[0], '-r')\n",
    "\n",
    "#data label\n",
    "plt.xlabel(\"Age 18 Vision Acuity\")\n",
    "plt.ylabel(\"Age 30 Vision\")\n",
    "plt.title(\"Visual Acuity - Wearing Both AT Age 30 Without Data From Lasik\")\n",
    "plt.show()\n",
    "\n",
    "# Print the coefficients\n",
    "print ('Coefficients: ', regr.coef_)\n",
    "print ('Intercept: ',regr.intercept_)\n",
    "\n",
    "# assign coefficient data\n",
    "BothCoe = regr.coef_\n",
    "BOthInt = regr.intercept_\n"
   ]
  },
  {
   "cell_type": "markdown",
   "metadata": {},
   "source": [
    "# Coefficient Compare"
   ]
  },
  {
   "cell_type": "code",
   "execution_count": 70,
   "metadata": {},
   "outputs": [
    {
     "name": "stdout",
     "output_type": "stream",
     "text": [
      "               Overall         Glasses       Contact       Both\n",
      "Coefficients:  [[0.96532136]] [[1.16975562]] [[1.0947216]] [[1.12235063]]\n",
      "Intercept:     [[0.96532136]] [[1.16975562]] [[1.0947216]] [[1.12235063]]\n"
     ]
    }
   ],
   "source": [
    "print ('               Overall         Glasses       Contact       Both')\n",
    "print ('Coefficients: ', AllCoe, GlassesCoe, ContactCoe, BothCoe)\n",
    "print ('Intercept:    ',AllCoe, GlassesCoe, ContactCoe, BothCoe)"
   ]
  },
  {
   "cell_type": "markdown",
   "metadata": {},
   "source": [
    "# Youth"
   ]
  },
  {
   "cell_type": "code",
   "execution_count": 130,
   "metadata": {
    "scrolled": true
   },
   "outputs": [
    {
     "data": {
      "image/png": "[encoded data removed]",
      "text/plain": [
       "<Figure size 432x288 with 1 Axes>"
      ]
     },
     "metadata": {},
     "output_type": "display_data"
    },
    {
     "data": {
      "image/png": "[encoded data removed]",
      "text/plain": [
       "<Figure size 432x288 with 1 Axes>"
      ]
     },
     "metadata": {},
     "output_type": "display_data"
    },
    {
     "data": {
      "image/png": "[encoded data removed]",
      "text/plain": [
       "<Figure size 432x288 with 1 Axes>"
      ]
     },
     "metadata": {},
     "output_type": "display_data"
    }
   ],
   "source": [
    "# Only 17 and younger count. removed data point with < 30 acuity loss and unchanged vision\n",
    "\n",
    "# Import all librarys\n",
    "import matplotlib.pyplot as plt\n",
    "import pandas as pd\n",
    "import pylab as pl\n",
    "import numpy as np\n",
    "%matplotlib inline\n",
    "\n",
    "#import the model\n",
    "from sklearn import linear_model\n",
    "\n",
    "#Load Data File\n",
    "df = pd.read_csv(\"C:/Users/Gary Chu/Desktop/Data Science/youth.csv\")\n",
    "# change the \\ to /\n",
    "\n",
    "#convert string values to integers 0 and 1\n",
    "df['Gender'] = df['Gender'].map({'M': 1, 'F':0, 'O':2})\n",
    "\n",
    "df.head(8)\n",
    "\n",
    "\n",
    "#Assign new data file, 1 = glasses, 2 = contact, 3 = back and forth \n",
    "df1 = df.loc[df['Age18Type'] == 1] # wearing glasses at 18 only\n",
    "df2 = df.loc[df['Age18Type'] == 2] # contact only at 18\n",
    "df3 = df.loc[df['Age18Type'] == 3] # both at age 18\n",
    "\n",
    "\n",
    "\n",
    "\n",
    "\n",
    "#Display Gender in pie chart\n",
    "\n",
    "#Assign new data file, 1 = glasses, 2 = contact, 3 = back and forth \n",
    "\n",
    "# Display Gender in pie chart\n",
    "labels = 'Male', 'Female', 'Other'\n",
    "sizes = [df1.loc[df1['Gender'] == 1].shape[0], df1.loc[df1['Gender'] == 0].shape[0], df1.loc[df1['Gender'] == 2].shape[0]]\n",
    "explode = (0, 0, 0) # Separate Female from Male\n",
    "plt.pie(sizes, explode=explode, labels=labels, autopct='%1.1f%%', shadow=True, startangle=90)\n",
    "plt.title(\"Visual Acuity - Wearing Glasses at 18\")\n",
    "plt.show()\n",
    "\n",
    "\n",
    "# Display Gender in pie chart\n",
    "labels = 'Male', 'Female', 'Other'\n",
    "sizes = [df2.loc[df2['Gender'] == 1].shape[0], df2.loc[df2['Gender'] == 0].shape[0], df2.loc[df2['Gender'] == 2].shape[0]]\n",
    "explode = (0, 0, 0) # Separate Female from Male\n",
    "plt.pie(sizes, explode=explode, labels=labels, autopct='%1.1f%%', shadow=True, startangle=90)\n",
    "plt.title(\"Visual Acuity - Wearing Contact at 18\")\n",
    "plt.show()\n",
    "\n",
    "# Display Gender in pie chart\n",
    "labels = 'Male', 'Female', 'Other'\n",
    "sizes = [df3.loc[df3['Gender'] == 1].shape[0], df3.loc[df3['Gender'] == 0].shape[0], df3.loc[df3['Gender'] == 2].shape[0]]\n",
    "explode = (0, 0, 0) # Separate Female from Male\n",
    "plt.pie(sizes, explode=explode, labels=labels, autopct='%1.1f%%', shadow=True, startangle=90)\n",
    "plt.title(\"Visual Acuity - Wearing Both Glasses and Contact at 18\")\n",
    "plt.show()\n",
    "\n",
    "\n"
   ]
  },
  {
   "cell_type": "code",
   "execution_count": 132,
   "metadata": {},
   "outputs": [
    {
     "name": "stdout",
     "output_type": "stream",
     "text": [
      "The Youth Average Vision Changes: for wearing a glasses 91.28571428571429\n",
      "The Youth Average Vision Changes: for wearing a contact 425.0\n",
      "The Youth Average Vision Changes: for wearing both 427.77777777777777\n",
      " \n",
      "\n",
      "Wearing Glasses only before age 18\n"
     ]
    },
    {
     "data": {
      "image/png": "[encoded data removed]",
      "text/plain": [
       "<Figure size 432x288 with 2 Axes>"
      ]
     },
     "metadata": {
      "needs_background": "light"
     },
     "output_type": "display_data"
    },
    {
     "name": "stdout",
     "output_type": "stream",
     "text": [
      " \n",
      "\n",
      "Changed to Contact before age 18\n"
     ]
    },
    {
     "data": {
      "image/png": "[encoded data removed]",
      "text/plain": [
       "<Figure size 432x288 with 2 Axes>"
      ]
     },
     "metadata": {
      "needs_background": "light"
     },
     "output_type": "display_data"
    },
    {
     "name": "stdout",
     "output_type": "stream",
     "text": [
      " \n",
      "\n",
      "Mixed Contact and Glasses before age 18\n"
     ]
    },
    {
     "data": {
      "image/png": "[encoded data removed]",
      "text/plain": [
       "<Figure size 432x288 with 2 Axes>"
      ]
     },
     "metadata": {
      "needs_background": "light"
     },
     "output_type": "display_data"
    }
   ],
   "source": [
    "# df[\"columnname\"].mean()\n",
    "\n",
    "print (\"The Youth Average Vision Changes: for wearing a glasses\", df1['VisionChangeAt18'].mean())\n",
    "print (\"The Youth Average Vision Changes: for wearing a contact\", df2['VisionChangeAt18'].mean())\n",
    "print (\"The Youth Average Vision Changes: for wearing both\", df3['VisionChangeAt18'].mean())\n",
    "\n",
    "print (\" \")\n",
    "print ('')\n",
    "print (\"Wearing Glasses only before age 18\")\n",
    "viz = df1[['InitialAcuity','Age18Acuity']]\n",
    "viz.hist()\n",
    "plt.show()\n",
    "\n",
    "print (\" \")\n",
    "print ('')\n",
    "print (\"Changed to Contact before age 18\")\n",
    "viz = df2[['InitialAcuity','Age18Acuity']]\n",
    "viz.hist()\n",
    "plt.show()\n",
    "\n",
    "print (\" \")\n",
    "print ('')\n",
    "print (\"Mixed Contact and Glasses before age 18\")\n",
    "viz = df3[['InitialAcuity','Age18Acuity']]\n",
    "viz.hist()\n",
    "plt.show()"
   ]
  },
  {
   "cell_type": "code",
   "execution_count": 134,
   "metadata": {},
   "outputs": [
    {
     "name": "stdout",
     "output_type": "stream",
     "text": [
      "Youth wearing glasses only before age 18\n"
     ]
    },
    {
     "data": {
      "text/html": [
       "<div>\n",
       "<style scoped>\n",
       "    .dataframe tbody tr th:only-of-type {\n",
       "        vertical-align: middle;\n",
       "    }\n",
       "\n",
       "    .dataframe tbody tr th {\n",
       "        vertical-align: top;\n",
       "    }\n",
       "\n",
       "    .dataframe thead th {\n",
       "        text-align: right;\n",
       "    }\n",
       "</style>\n",
       "<table border=\"1\" class=\"dataframe\">\n",
       "  <thead>\n",
       "    <tr style=\"text-align: right;\">\n",
       "      <th></th>\n",
       "      <th>Survery #</th>\n",
       "      <th>Age</th>\n",
       "      <th>Gender</th>\n",
       "      <th>InitialAcuity</th>\n",
       "      <th>AgeFirstRx</th>\n",
       "      <th>Age18Acuity</th>\n",
       "      <th>Age18Type</th>\n",
       "      <th>ChangedTo</th>\n",
       "      <th>AgeChanged</th>\n",
       "      <th>NoChange</th>\n",
       "      <th>ChangeImproveVision</th>\n",
       "      <th>Regret</th>\n",
       "      <th>VisionChangeAt18</th>\n",
       "      <th>Unnamed: 14</th>\n",
       "      <th>Unnamed: 16</th>\n",
       "    </tr>\n",
       "  </thead>\n",
       "  <tbody>\n",
       "    <tr>\n",
       "      <th>count</th>\n",
       "      <td>35.000000</td>\n",
       "      <td>35.000000</td>\n",
       "      <td>35.000000</td>\n",
       "      <td>35.000000</td>\n",
       "      <td>35.000000</td>\n",
       "      <td>35.000000</td>\n",
       "      <td>35.0</td>\n",
       "      <td>35.000000</td>\n",
       "      <td>35.000000</td>\n",
       "      <td>35.000000</td>\n",
       "      <td>35.000000</td>\n",
       "      <td>23.0</td>\n",
       "      <td>35.000000</td>\n",
       "      <td>0.0</td>\n",
       "      <td>4.000000</td>\n",
       "    </tr>\n",
       "    <tr>\n",
       "      <th>mean</th>\n",
       "      <td>18.000000</td>\n",
       "      <td>41.657143</td>\n",
       "      <td>0.371429</td>\n",
       "      <td>242.000000</td>\n",
       "      <td>13.371429</td>\n",
       "      <td>333.285714</td>\n",
       "      <td>1.0</td>\n",
       "      <td>1.485714</td>\n",
       "      <td>15.085714</td>\n",
       "      <td>0.342857</td>\n",
       "      <td>0.314286</td>\n",
       "      <td>0.0</td>\n",
       "      <td>91.285714</td>\n",
       "      <td>NaN</td>\n",
       "      <td>342.822500</td>\n",
       "    </tr>\n",
       "    <tr>\n",
       "      <th>std</th>\n",
       "      <td>10.246951</td>\n",
       "      <td>10.876155</td>\n",
       "      <td>0.490241</td>\n",
       "      <td>166.641567</td>\n",
       "      <td>4.087900</td>\n",
       "      <td>235.515526</td>\n",
       "      <td>0.0</td>\n",
       "      <td>1.336621</td>\n",
       "      <td>12.301055</td>\n",
       "      <td>0.481594</td>\n",
       "      <td>0.718308</td>\n",
       "      <td>0.0</td>\n",
       "      <td>204.264617</td>\n",
       "      <td>NaN</td>\n",
       "      <td>167.692972</td>\n",
       "    </tr>\n",
       "    <tr>\n",
       "      <th>min</th>\n",
       "      <td>1.000000</td>\n",
       "      <td>24.000000</td>\n",
       "      <td>0.000000</td>\n",
       "      <td>25.000000</td>\n",
       "      <td>1.000000</td>\n",
       "      <td>20.000000</td>\n",
       "      <td>1.0</td>\n",
       "      <td>0.000000</td>\n",
       "      <td>0.000000</td>\n",
       "      <td>0.000000</td>\n",
       "      <td>0.000000</td>\n",
       "      <td>0.0</td>\n",
       "      <td>-400.000000</td>\n",
       "      <td>NaN</td>\n",
       "      <td>91.290000</td>\n",
       "    </tr>\n",
       "    <tr>\n",
       "      <th>25%</th>\n",
       "      <td>9.500000</td>\n",
       "      <td>34.000000</td>\n",
       "      <td>0.000000</td>\n",
       "      <td>127.500000</td>\n",
       "      <td>10.000000</td>\n",
       "      <td>180.000000</td>\n",
       "      <td>1.0</td>\n",
       "      <td>0.000000</td>\n",
       "      <td>0.000000</td>\n",
       "      <td>0.000000</td>\n",
       "      <td>0.000000</td>\n",
       "      <td>0.0</td>\n",
       "      <td>0.000000</td>\n",
       "      <td>NaN</td>\n",
       "      <td>341.572500</td>\n",
       "    </tr>\n",
       "    <tr>\n",
       "      <th>50%</th>\n",
       "      <td>18.000000</td>\n",
       "      <td>43.000000</td>\n",
       "      <td>0.000000</td>\n",
       "      <td>200.000000</td>\n",
       "      <td>14.000000</td>\n",
       "      <td>300.000000</td>\n",
       "      <td>1.0</td>\n",
       "      <td>1.000000</td>\n",
       "      <td>19.000000</td>\n",
       "      <td>0.000000</td>\n",
       "      <td>0.000000</td>\n",
       "      <td>0.0</td>\n",
       "      <td>50.000000</td>\n",
       "      <td>NaN</td>\n",
       "      <td>426.000000</td>\n",
       "    </tr>\n",
       "    <tr>\n",
       "      <th>75%</th>\n",
       "      <td>26.500000</td>\n",
       "      <td>48.500000</td>\n",
       "      <td>1.000000</td>\n",
       "      <td>287.500000</td>\n",
       "      <td>16.000000</td>\n",
       "      <td>437.500000</td>\n",
       "      <td>1.0</td>\n",
       "      <td>3.000000</td>\n",
       "      <td>24.000000</td>\n",
       "      <td>1.000000</td>\n",
       "      <td>0.000000</td>\n",
       "      <td>0.0</td>\n",
       "      <td>162.500000</td>\n",
       "      <td>NaN</td>\n",
       "      <td>427.250000</td>\n",
       "    </tr>\n",
       "    <tr>\n",
       "      <th>max</th>\n",
       "      <td>35.000000</td>\n",
       "      <td>76.000000</td>\n",
       "      <td>1.000000</td>\n",
       "      <td>700.000000</td>\n",
       "      <td>23.000000</td>\n",
       "      <td>900.000000</td>\n",
       "      <td>1.0</td>\n",
       "      <td>3.000000</td>\n",
       "      <td>35.000000</td>\n",
       "      <td>1.000000</td>\n",
       "      <td>2.000000</td>\n",
       "      <td>0.0</td>\n",
       "      <td>770.000000</td>\n",
       "      <td>NaN</td>\n",
       "      <td>428.000000</td>\n",
       "    </tr>\n",
       "  </tbody>\n",
       "</table>\n",
       "</div>"
      ],
      "text/plain": [
       "       Survery #        Age     Gender  InitialAcuity  AgeFirstRx  \\\n",
       "count  35.000000  35.000000  35.000000      35.000000   35.000000   \n",
       "mean   18.000000  41.657143   0.371429     242.000000   13.371429   \n",
       "std    10.246951  10.876155   0.490241     166.641567    4.087900   \n",
       "min     1.000000  24.000000   0.000000      25.000000    1.000000   \n",
       "25%     9.500000  34.000000   0.000000     127.500000   10.000000   \n",
       "50%    18.000000  43.000000   0.000000     200.000000   14.000000   \n",
       "75%    26.500000  48.500000   1.000000     287.500000   16.000000   \n",
       "max    35.000000  76.000000   1.000000     700.000000   23.000000   \n",
       "\n",
       "       Age18Acuity  Age18Type  ChangedTo  AgeChanged   NoChange  \\\n",
       "count    35.000000       35.0  35.000000   35.000000  35.000000   \n",
       "mean    333.285714        1.0   1.485714   15.085714   0.342857   \n",
       "std     235.515526        0.0   1.336621   12.301055   0.481594   \n",
       "min      20.000000        1.0   0.000000    0.000000   0.000000   \n",
       "25%     180.000000        1.0   0.000000    0.000000   0.000000   \n",
       "50%     300.000000        1.0   1.000000   19.000000   0.000000   \n",
       "75%     437.500000        1.0   3.000000   24.000000   1.000000   \n",
       "max     900.000000        1.0   3.000000   35.000000   1.000000   \n",
       "\n",
       "       ChangeImproveVision  Regret  VisionChangeAt18  Unnamed: 14  Unnamed: 16  \n",
       "count            35.000000    23.0         35.000000          0.0     4.000000  \n",
       "mean              0.314286     0.0         91.285714          NaN   342.822500  \n",
       "std               0.718308     0.0        204.264617          NaN   167.692972  \n",
       "min               0.000000     0.0       -400.000000          NaN    91.290000  \n",
       "25%               0.000000     0.0          0.000000          NaN   341.572500  \n",
       "50%               0.000000     0.0         50.000000          NaN   426.000000  \n",
       "75%               0.000000     0.0        162.500000          NaN   427.250000  \n",
       "max               2.000000     0.0        770.000000          NaN   428.000000  "
      ]
     },
     "execution_count": 134,
     "metadata": {},
     "output_type": "execute_result"
    }
   ],
   "source": [
    "print (\"Youth wearing glasses only before age 18\")\n",
    "df1.describe()"
   ]
  },
  {
   "cell_type": "code",
   "execution_count": 135,
   "metadata": {},
   "outputs": [
    {
     "name": "stdout",
     "output_type": "stream",
     "text": [
      "Youth changed to contact before age 18\n"
     ]
    },
    {
     "data": {
      "text/html": [
       "<div>\n",
       "<style scoped>\n",
       "    .dataframe tbody tr th:only-of-type {\n",
       "        vertical-align: middle;\n",
       "    }\n",
       "\n",
       "    .dataframe tbody tr th {\n",
       "        vertical-align: top;\n",
       "    }\n",
       "\n",
       "    .dataframe thead th {\n",
       "        text-align: right;\n",
       "    }\n",
       "</style>\n",
       "<table border=\"1\" class=\"dataframe\">\n",
       "  <thead>\n",
       "    <tr style=\"text-align: right;\">\n",
       "      <th></th>\n",
       "      <th>Survery #</th>\n",
       "      <th>Age</th>\n",
       "      <th>Gender</th>\n",
       "      <th>InitialAcuity</th>\n",
       "      <th>AgeFirstRx</th>\n",
       "      <th>Age18Acuity</th>\n",
       "      <th>Age18Type</th>\n",
       "      <th>ChangedTo</th>\n",
       "      <th>AgeChanged</th>\n",
       "      <th>NoChange</th>\n",
       "      <th>ChangeImproveVision</th>\n",
       "      <th>Regret</th>\n",
       "      <th>VisionChangeAt18</th>\n",
       "      <th>Unnamed: 14</th>\n",
       "      <th>Unnamed: 16</th>\n",
       "    </tr>\n",
       "  </thead>\n",
       "  <tbody>\n",
       "    <tr>\n",
       "      <th>count</th>\n",
       "      <td>4.000000</td>\n",
       "      <td>4.000000</td>\n",
       "      <td>4.0</td>\n",
       "      <td>4.000000</td>\n",
       "      <td>4.000000</td>\n",
       "      <td>4.000000</td>\n",
       "      <td>4.0</td>\n",
       "      <td>4.0</td>\n",
       "      <td>4.000000</td>\n",
       "      <td>4.0</td>\n",
       "      <td>4.000000</td>\n",
       "      <td>4.0</td>\n",
       "      <td>4.000000</td>\n",
       "      <td>0.0</td>\n",
       "      <td>0.0</td>\n",
       "    </tr>\n",
       "    <tr>\n",
       "      <th>mean</th>\n",
       "      <td>37.500000</td>\n",
       "      <td>32.750000</td>\n",
       "      <td>0.0</td>\n",
       "      <td>300.000000</td>\n",
       "      <td>9.750000</td>\n",
       "      <td>725.000000</td>\n",
       "      <td>2.0</td>\n",
       "      <td>2.0</td>\n",
       "      <td>13.250000</td>\n",
       "      <td>0.0</td>\n",
       "      <td>1.000000</td>\n",
       "      <td>0.0</td>\n",
       "      <td>425.000000</td>\n",
       "      <td>NaN</td>\n",
       "      <td>NaN</td>\n",
       "    </tr>\n",
       "    <tr>\n",
       "      <th>std</th>\n",
       "      <td>1.290994</td>\n",
       "      <td>9.673848</td>\n",
       "      <td>0.0</td>\n",
       "      <td>241.522946</td>\n",
       "      <td>1.707825</td>\n",
       "      <td>327.871926</td>\n",
       "      <td>0.0</td>\n",
       "      <td>0.0</td>\n",
       "      <td>0.957427</td>\n",
       "      <td>0.0</td>\n",
       "      <td>1.154701</td>\n",
       "      <td>0.0</td>\n",
       "      <td>405.174859</td>\n",
       "      <td>NaN</td>\n",
       "      <td>NaN</td>\n",
       "    </tr>\n",
       "    <tr>\n",
       "      <th>min</th>\n",
       "      <td>36.000000</td>\n",
       "      <td>25.000000</td>\n",
       "      <td>0.0</td>\n",
       "      <td>100.000000</td>\n",
       "      <td>8.000000</td>\n",
       "      <td>450.000000</td>\n",
       "      <td>2.0</td>\n",
       "      <td>2.0</td>\n",
       "      <td>12.000000</td>\n",
       "      <td>0.0</td>\n",
       "      <td>0.000000</td>\n",
       "      <td>0.0</td>\n",
       "      <td>0.000000</td>\n",
       "      <td>NaN</td>\n",
       "      <td>NaN</td>\n",
       "    </tr>\n",
       "    <tr>\n",
       "      <th>25%</th>\n",
       "      <td>36.750000</td>\n",
       "      <td>25.000000</td>\n",
       "      <td>0.0</td>\n",
       "      <td>175.000000</td>\n",
       "      <td>8.750000</td>\n",
       "      <td>562.500000</td>\n",
       "      <td>2.0</td>\n",
       "      <td>2.0</td>\n",
       "      <td>12.750000</td>\n",
       "      <td>0.0</td>\n",
       "      <td>0.000000</td>\n",
       "      <td>0.0</td>\n",
       "      <td>187.500000</td>\n",
       "      <td>NaN</td>\n",
       "      <td>NaN</td>\n",
       "    </tr>\n",
       "    <tr>\n",
       "      <th>50%</th>\n",
       "      <td>37.500000</td>\n",
       "      <td>30.500000</td>\n",
       "      <td>0.0</td>\n",
       "      <td>225.000000</td>\n",
       "      <td>9.500000</td>\n",
       "      <td>625.000000</td>\n",
       "      <td>2.0</td>\n",
       "      <td>2.0</td>\n",
       "      <td>13.500000</td>\n",
       "      <td>0.0</td>\n",
       "      <td>1.000000</td>\n",
       "      <td>0.0</td>\n",
       "      <td>375.000000</td>\n",
       "      <td>NaN</td>\n",
       "      <td>NaN</td>\n",
       "    </tr>\n",
       "    <tr>\n",
       "      <th>75%</th>\n",
       "      <td>38.250000</td>\n",
       "      <td>38.250000</td>\n",
       "      <td>0.0</td>\n",
       "      <td>350.000000</td>\n",
       "      <td>10.500000</td>\n",
       "      <td>787.500000</td>\n",
       "      <td>2.0</td>\n",
       "      <td>2.0</td>\n",
       "      <td>14.000000</td>\n",
       "      <td>0.0</td>\n",
       "      <td>2.000000</td>\n",
       "      <td>0.0</td>\n",
       "      <td>612.500000</td>\n",
       "      <td>NaN</td>\n",
       "      <td>NaN</td>\n",
       "    </tr>\n",
       "    <tr>\n",
       "      <th>max</th>\n",
       "      <td>39.000000</td>\n",
       "      <td>45.000000</td>\n",
       "      <td>0.0</td>\n",
       "      <td>650.000000</td>\n",
       "      <td>12.000000</td>\n",
       "      <td>1200.000000</td>\n",
       "      <td>2.0</td>\n",
       "      <td>2.0</td>\n",
       "      <td>14.000000</td>\n",
       "      <td>0.0</td>\n",
       "      <td>2.000000</td>\n",
       "      <td>0.0</td>\n",
       "      <td>950.000000</td>\n",
       "      <td>NaN</td>\n",
       "      <td>NaN</td>\n",
       "    </tr>\n",
       "  </tbody>\n",
       "</table>\n",
       "</div>"
      ],
      "text/plain": [
       "       Survery #        Age  Gender  InitialAcuity  AgeFirstRx  Age18Acuity  \\\n",
       "count   4.000000   4.000000     4.0       4.000000    4.000000     4.000000   \n",
       "mean   37.500000  32.750000     0.0     300.000000    9.750000   725.000000   \n",
       "std     1.290994   9.673848     0.0     241.522946    1.707825   327.871926   \n",
       "min    36.000000  25.000000     0.0     100.000000    8.000000   450.000000   \n",
       "25%    36.750000  25.000000     0.0     175.000000    8.750000   562.500000   \n",
       "50%    37.500000  30.500000     0.0     225.000000    9.500000   625.000000   \n",
       "75%    38.250000  38.250000     0.0     350.000000   10.500000   787.500000   \n",
       "max    39.000000  45.000000     0.0     650.000000   12.000000  1200.000000   \n",
       "\n",
       "       Age18Type  ChangedTo  AgeChanged  NoChange  ChangeImproveVision  \\\n",
       "count        4.0        4.0    4.000000       4.0             4.000000   \n",
       "mean         2.0        2.0   13.250000       0.0             1.000000   \n",
       "std          0.0        0.0    0.957427       0.0             1.154701   \n",
       "min          2.0        2.0   12.000000       0.0             0.000000   \n",
       "25%          2.0        2.0   12.750000       0.0             0.000000   \n",
       "50%          2.0        2.0   13.500000       0.0             1.000000   \n",
       "75%          2.0        2.0   14.000000       0.0             2.000000   \n",
       "max          2.0        2.0   14.000000       0.0             2.000000   \n",
       "\n",
       "       Regret  VisionChangeAt18  Unnamed: 14  Unnamed: 16  \n",
       "count     4.0          4.000000          0.0          0.0  \n",
       "mean      0.0        425.000000          NaN          NaN  \n",
       "std       0.0        405.174859          NaN          NaN  \n",
       "min       0.0          0.000000          NaN          NaN  \n",
       "25%       0.0        187.500000          NaN          NaN  \n",
       "50%       0.0        375.000000          NaN          NaN  \n",
       "75%       0.0        612.500000          NaN          NaN  \n",
       "max       0.0        950.000000          NaN          NaN  "
      ]
     },
     "execution_count": 135,
     "metadata": {},
     "output_type": "execute_result"
    }
   ],
   "source": [
    "print (\"Youth changed to contact before age 18\")\n",
    "df2.describe()"
   ]
  },
  {
   "cell_type": "code",
   "execution_count": 136,
   "metadata": {},
   "outputs": [
    {
     "name": "stdout",
     "output_type": "stream",
     "text": [
      "Youth wearing both contact and glasses before age 18\n"
     ]
    },
    {
     "data": {
      "text/html": [
       "<div>\n",
       "<style scoped>\n",
       "    .dataframe tbody tr th:only-of-type {\n",
       "        vertical-align: middle;\n",
       "    }\n",
       "\n",
       "    .dataframe tbody tr th {\n",
       "        vertical-align: top;\n",
       "    }\n",
       "\n",
       "    .dataframe thead th {\n",
       "        text-align: right;\n",
       "    }\n",
       "</style>\n",
       "<table border=\"1\" class=\"dataframe\">\n",
       "  <thead>\n",
       "    <tr style=\"text-align: right;\">\n",
       "      <th></th>\n",
       "      <th>Survery #</th>\n",
       "      <th>Age</th>\n",
       "      <th>Gender</th>\n",
       "      <th>InitialAcuity</th>\n",
       "      <th>AgeFirstRx</th>\n",
       "      <th>Age18Acuity</th>\n",
       "      <th>Age18Type</th>\n",
       "      <th>ChangedTo</th>\n",
       "      <th>AgeChanged</th>\n",
       "      <th>NoChange</th>\n",
       "      <th>ChangeImproveVision</th>\n",
       "      <th>Regret</th>\n",
       "      <th>VisionChangeAt18</th>\n",
       "      <th>Unnamed: 14</th>\n",
       "      <th>Unnamed: 16</th>\n",
       "    </tr>\n",
       "  </thead>\n",
       "  <tbody>\n",
       "    <tr>\n",
       "      <th>count</th>\n",
       "      <td>9.000000</td>\n",
       "      <td>9.000000</td>\n",
       "      <td>9.0</td>\n",
       "      <td>9.000000</td>\n",
       "      <td>9.000000</td>\n",
       "      <td>9.000000</td>\n",
       "      <td>9.0</td>\n",
       "      <td>9.0</td>\n",
       "      <td>9.000000</td>\n",
       "      <td>9.0</td>\n",
       "      <td>9.000000</td>\n",
       "      <td>9.0</td>\n",
       "      <td>9.000000</td>\n",
       "      <td>0.0</td>\n",
       "      <td>0.0</td>\n",
       "    </tr>\n",
       "    <tr>\n",
       "      <th>mean</th>\n",
       "      <td>44.000000</td>\n",
       "      <td>38.666667</td>\n",
       "      <td>0.0</td>\n",
       "      <td>102.777778</td>\n",
       "      <td>8.666667</td>\n",
       "      <td>530.555556</td>\n",
       "      <td>3.0</td>\n",
       "      <td>3.0</td>\n",
       "      <td>14.666667</td>\n",
       "      <td>0.0</td>\n",
       "      <td>0.666667</td>\n",
       "      <td>0.0</td>\n",
       "      <td>427.777778</td>\n",
       "      <td>NaN</td>\n",
       "      <td>NaN</td>\n",
       "    </tr>\n",
       "    <tr>\n",
       "      <th>std</th>\n",
       "      <td>2.738613</td>\n",
       "      <td>13.720423</td>\n",
       "      <td>0.0</td>\n",
       "      <td>40.705582</td>\n",
       "      <td>1.870829</td>\n",
       "      <td>278.886676</td>\n",
       "      <td>0.0</td>\n",
       "      <td>0.0</td>\n",
       "      <td>1.658312</td>\n",
       "      <td>0.0</td>\n",
       "      <td>1.000000</td>\n",
       "      <td>0.0</td>\n",
       "      <td>264.989518</td>\n",
       "      <td>NaN</td>\n",
       "      <td>NaN</td>\n",
       "    </tr>\n",
       "    <tr>\n",
       "      <th>min</th>\n",
       "      <td>40.000000</td>\n",
       "      <td>21.000000</td>\n",
       "      <td>0.0</td>\n",
       "      <td>60.000000</td>\n",
       "      <td>6.000000</td>\n",
       "      <td>300.000000</td>\n",
       "      <td>3.0</td>\n",
       "      <td>3.0</td>\n",
       "      <td>12.000000</td>\n",
       "      <td>0.0</td>\n",
       "      <td>0.000000</td>\n",
       "      <td>0.0</td>\n",
       "      <td>200.000000</td>\n",
       "      <td>NaN</td>\n",
       "      <td>NaN</td>\n",
       "    </tr>\n",
       "    <tr>\n",
       "      <th>25%</th>\n",
       "      <td>42.000000</td>\n",
       "      <td>29.000000</td>\n",
       "      <td>0.0</td>\n",
       "      <td>70.000000</td>\n",
       "      <td>7.000000</td>\n",
       "      <td>375.000000</td>\n",
       "      <td>3.0</td>\n",
       "      <td>3.0</td>\n",
       "      <td>14.000000</td>\n",
       "      <td>0.0</td>\n",
       "      <td>0.000000</td>\n",
       "      <td>0.0</td>\n",
       "      <td>250.000000</td>\n",
       "      <td>NaN</td>\n",
       "      <td>NaN</td>\n",
       "    </tr>\n",
       "    <tr>\n",
       "      <th>50%</th>\n",
       "      <td>44.000000</td>\n",
       "      <td>35.000000</td>\n",
       "      <td>0.0</td>\n",
       "      <td>100.000000</td>\n",
       "      <td>8.000000</td>\n",
       "      <td>400.000000</td>\n",
       "      <td>3.0</td>\n",
       "      <td>3.0</td>\n",
       "      <td>14.000000</td>\n",
       "      <td>0.0</td>\n",
       "      <td>0.000000</td>\n",
       "      <td>0.0</td>\n",
       "      <td>340.000000</td>\n",
       "      <td>NaN</td>\n",
       "      <td>NaN</td>\n",
       "    </tr>\n",
       "    <tr>\n",
       "      <th>75%</th>\n",
       "      <td>46.000000</td>\n",
       "      <td>47.000000</td>\n",
       "      <td>0.0</td>\n",
       "      <td>100.000000</td>\n",
       "      <td>10.000000</td>\n",
       "      <td>550.000000</td>\n",
       "      <td>3.0</td>\n",
       "      <td>3.0</td>\n",
       "      <td>16.000000</td>\n",
       "      <td>0.0</td>\n",
       "      <td>2.000000</td>\n",
       "      <td>0.0</td>\n",
       "      <td>450.000000</td>\n",
       "      <td>NaN</td>\n",
       "      <td>NaN</td>\n",
       "    </tr>\n",
       "    <tr>\n",
       "      <th>max</th>\n",
       "      <td>48.000000</td>\n",
       "      <td>64.000000</td>\n",
       "      <td>0.0</td>\n",
       "      <td>175.000000</td>\n",
       "      <td>11.000000</td>\n",
       "      <td>1100.000000</td>\n",
       "      <td>3.0</td>\n",
       "      <td>3.0</td>\n",
       "      <td>17.000000</td>\n",
       "      <td>0.0</td>\n",
       "      <td>2.000000</td>\n",
       "      <td>0.0</td>\n",
       "      <td>940.000000</td>\n",
       "      <td>NaN</td>\n",
       "      <td>NaN</td>\n",
       "    </tr>\n",
       "  </tbody>\n",
       "</table>\n",
       "</div>"
      ],
      "text/plain": [
       "       Survery #        Age  Gender  InitialAcuity  AgeFirstRx  Age18Acuity  \\\n",
       "count   9.000000   9.000000     9.0       9.000000    9.000000     9.000000   \n",
       "mean   44.000000  38.666667     0.0     102.777778    8.666667   530.555556   \n",
       "std     2.738613  13.720423     0.0      40.705582    1.870829   278.886676   \n",
       "min    40.000000  21.000000     0.0      60.000000    6.000000   300.000000   \n",
       "25%    42.000000  29.000000     0.0      70.000000    7.000000   375.000000   \n",
       "50%    44.000000  35.000000     0.0     100.000000    8.000000   400.000000   \n",
       "75%    46.000000  47.000000     0.0     100.000000   10.000000   550.000000   \n",
       "max    48.000000  64.000000     0.0     175.000000   11.000000  1100.000000   \n",
       "\n",
       "       Age18Type  ChangedTo  AgeChanged  NoChange  ChangeImproveVision  \\\n",
       "count        9.0        9.0    9.000000       9.0             9.000000   \n",
       "mean         3.0        3.0   14.666667       0.0             0.666667   \n",
       "std          0.0        0.0    1.658312       0.0             1.000000   \n",
       "min          3.0        3.0   12.000000       0.0             0.000000   \n",
       "25%          3.0        3.0   14.000000       0.0             0.000000   \n",
       "50%          3.0        3.0   14.000000       0.0             0.000000   \n",
       "75%          3.0        3.0   16.000000       0.0             2.000000   \n",
       "max          3.0        3.0   17.000000       0.0             2.000000   \n",
       "\n",
       "       Regret  VisionChangeAt18  Unnamed: 14  Unnamed: 16  \n",
       "count     9.0          9.000000          0.0          0.0  \n",
       "mean      0.0        427.777778          NaN          NaN  \n",
       "std       0.0        264.989518          NaN          NaN  \n",
       "min       0.0        200.000000          NaN          NaN  \n",
       "25%       0.0        250.000000          NaN          NaN  \n",
       "50%       0.0        340.000000          NaN          NaN  \n",
       "75%       0.0        450.000000          NaN          NaN  \n",
       "max       0.0        940.000000          NaN          NaN  "
      ]
     },
     "execution_count": 136,
     "metadata": {},
     "output_type": "execute_result"
    }
   ],
   "source": [
    "print (\"Youth wearing both contact and glasses before age 18\")\n",
    "df3.describe()"
   ]
  },
  {
   "cell_type": "markdown",
   "metadata": {},
   "source": [
    "# Evaluation of the Model (Not Used. Skip)\n"
   ]
  },
  {
   "cell_type": "code",
   "execution_count": 14,
   "metadata": {},
   "outputs": [
    {
     "ename": "NameError",
     "evalue": "name 'test' is not defined",
     "output_type": "error",
     "traceback": [
      "\u001b[1;31m---------------------------------------------------------------------------\u001b[0m",
      "\u001b[1;31mNameError\u001b[0m                                 Traceback (most recent call last)",
      "\u001b[1;32m<ipython-input-14-c72b81e385d0>\u001b[0m in \u001b[0;36m<module>\u001b[1;34m\u001b[0m\n\u001b[0;32m      1\u001b[0m \u001b[1;32mfrom\u001b[0m \u001b[0msklearn\u001b[0m\u001b[1;33m.\u001b[0m\u001b[0mmetrics\u001b[0m \u001b[1;32mimport\u001b[0m \u001b[0mr2_score\u001b[0m\u001b[1;33m\u001b[0m\u001b[1;33m\u001b[0m\u001b[0m\n\u001b[0;32m      2\u001b[0m \u001b[1;33m\u001b[0m\u001b[0m\n\u001b[1;32m----> 3\u001b[1;33m \u001b[0mtest_x\u001b[0m \u001b[1;33m=\u001b[0m \u001b[0mnp\u001b[0m\u001b[1;33m.\u001b[0m\u001b[0masanyarray\u001b[0m\u001b[1;33m(\u001b[0m\u001b[0mtest\u001b[0m\u001b[1;33m[\u001b[0m\u001b[1;33m[\u001b[0m\u001b[1;34m'Age18Acuity'\u001b[0m\u001b[1;33m]\u001b[0m\u001b[1;33m]\u001b[0m\u001b[1;33m)\u001b[0m\u001b[1;33m\u001b[0m\u001b[1;33m\u001b[0m\u001b[0m\n\u001b[0m\u001b[0;32m      4\u001b[0m \u001b[0mtest_y\u001b[0m \u001b[1;33m=\u001b[0m \u001b[0mnp\u001b[0m\u001b[1;33m.\u001b[0m\u001b[0masanyarray\u001b[0m\u001b[1;33m(\u001b[0m\u001b[0mtest\u001b[0m\u001b[1;33m[\u001b[0m\u001b[1;33m[\u001b[0m\u001b[1;34m'Age30Acuity'\u001b[0m\u001b[1;33m]\u001b[0m\u001b[1;33m]\u001b[0m\u001b[1;33m)\u001b[0m\u001b[1;33m\u001b[0m\u001b[1;33m\u001b[0m\u001b[0m\n\u001b[0;32m      5\u001b[0m \u001b[0mtest_y_hat\u001b[0m \u001b[1;33m=\u001b[0m \u001b[0mregr\u001b[0m\u001b[1;33m.\u001b[0m\u001b[0mpredict\u001b[0m\u001b[1;33m(\u001b[0m\u001b[0mtest_x\u001b[0m\u001b[1;33m)\u001b[0m\u001b[1;33m\u001b[0m\u001b[1;33m\u001b[0m\u001b[0m\n",
      "\u001b[1;31mNameError\u001b[0m: name 'test' is not defined"
     ]
    }
   ],
   "source": [
    "from sklearn.metrics import r2_score\n",
    "\n",
    "test_x = np.asanyarray(test[['Age18Acuity']])\n",
    "test_y = np.asanyarray(test[['Age30Acuity']])\n",
    "test_y_hat = regr.predict(test_x)\n",
    "\n",
    "print(\"Mean absolute error: %.2f\" % np.mean(np.absolute(test_y_hat - test_y)))\n",
    "print(\"Residual sum of squares (MSE): %.2f\" % np.mean((test_y_hat - test_y) ** 2))\n",
    "print(\"R2-score: %.2f\" % r2_score(test_y_hat , test_y) )\n",
    "\n",
    "# R2 score of 0% indicates that the model explains none of the variability of the response data around its mean. (bad)\n",
    "# R2 score 100% indicates that the model explains all the variability of the response data around its mean. (good)\n",
    "# https://blog.minitab.com/blog/adventures-in-statistics-2/regression-analysis-how-do-i-interpret-r-squared-and-assess-the-goodness-of-fit\n"
   ]
  },
  {
   "cell_type": "markdown",
   "metadata": {},
   "source": [
    "# Creating a Muitiple Linear Regression Model (Not Use. Skip)\n"
   ]
  },
  {
   "cell_type": "code",
   "execution_count": 15,
   "metadata": {},
   "outputs": [
    {
     "ename": "NameError",
     "evalue": "name 'train' is not defined",
     "output_type": "error",
     "traceback": [
      "\u001b[1;31m---------------------------------------------------------------------------\u001b[0m",
      "\u001b[1;31mNameError\u001b[0m                                 Traceback (most recent call last)",
      "\u001b[1;32m<ipython-input-15-ca7f64df3d67>\u001b[0m in \u001b[0;36m<module>\u001b[1;34m\u001b[0m\n\u001b[0;32m      2\u001b[0m \u001b[1;32mfrom\u001b[0m \u001b[0msklearn\u001b[0m \u001b[1;32mimport\u001b[0m \u001b[0mlinear_model\u001b[0m\u001b[1;33m\u001b[0m\u001b[1;33m\u001b[0m\u001b[0m\n\u001b[0;32m      3\u001b[0m \u001b[0mregr\u001b[0m \u001b[1;33m=\u001b[0m \u001b[0mlinear_model\u001b[0m\u001b[1;33m.\u001b[0m\u001b[0mLinearRegression\u001b[0m\u001b[1;33m(\u001b[0m\u001b[1;33m)\u001b[0m\u001b[1;33m\u001b[0m\u001b[1;33m\u001b[0m\u001b[0m\n\u001b[1;32m----> 4\u001b[1;33m \u001b[0mx\u001b[0m \u001b[1;33m=\u001b[0m \u001b[0mnp\u001b[0m\u001b[1;33m.\u001b[0m\u001b[0masanyarray\u001b[0m\u001b[1;33m(\u001b[0m\u001b[0mtrain\u001b[0m\u001b[1;33m[\u001b[0m\u001b[1;33m[\u001b[0m\u001b[1;34m'InitialAcuity'\u001b[0m\u001b[1;33m,\u001b[0m\u001b[1;34m'Age18Acuity'\u001b[0m\u001b[1;33m]\u001b[0m\u001b[1;33m]\u001b[0m\u001b[1;33m)\u001b[0m\u001b[1;33m\u001b[0m\u001b[1;33m\u001b[0m\u001b[0m\n\u001b[0m\u001b[0;32m      5\u001b[0m \u001b[0my\u001b[0m \u001b[1;33m=\u001b[0m \u001b[0mnp\u001b[0m\u001b[1;33m.\u001b[0m\u001b[0masanyarray\u001b[0m\u001b[1;33m(\u001b[0m\u001b[0mtrain\u001b[0m\u001b[1;33m[\u001b[0m\u001b[1;33m[\u001b[0m\u001b[1;34m'Age30Acuity'\u001b[0m\u001b[1;33m]\u001b[0m\u001b[1;33m]\u001b[0m\u001b[1;33m)\u001b[0m\u001b[1;33m\u001b[0m\u001b[1;33m\u001b[0m\u001b[0m\n\u001b[0;32m      6\u001b[0m \u001b[0mregr\u001b[0m\u001b[1;33m.\u001b[0m\u001b[0mfit\u001b[0m \u001b[1;33m(\u001b[0m\u001b[0mx\u001b[0m\u001b[1;33m,\u001b[0m \u001b[0my\u001b[0m\u001b[1;33m)\u001b[0m\u001b[1;33m\u001b[0m\u001b[1;33m\u001b[0m\u001b[0m\n",
      "\u001b[1;31mNameError\u001b[0m: name 'train' is not defined"
     ]
    }
   ],
   "source": [
    "# multiple regression model\n",
    "from sklearn import linear_model\n",
    "regr = linear_model.LinearRegression()\n",
    "x = np.asanyarray(train[['InitialAcuity','Age18Acuity']])\n",
    "y = np.asanyarray(train[['Age30Acuity']])\n",
    "regr.fit (x, y)\n",
    "# The coefficients\n",
    "print ('Coefficients: ', regr.coef_)"
   ]
  },
  {
   "cell_type": "code",
   "execution_count": 16,
   "metadata": {},
   "outputs": [
    {
     "ename": "NameError",
     "evalue": "name 'train' is not defined",
     "output_type": "error",
     "traceback": [
      "\u001b[1;31m---------------------------------------------------------------------------\u001b[0m",
      "\u001b[1;31mNameError\u001b[0m                                 Traceback (most recent call last)",
      "\u001b[1;32m<ipython-input-16-595d30424eb7>\u001b[0m in \u001b[0;36m<module>\u001b[1;34m\u001b[0m\n\u001b[0;32m      3\u001b[0m \u001b[1;33m\u001b[0m\u001b[0m\n\u001b[0;32m      4\u001b[0m \u001b[1;31m#print scatter graph of the data\u001b[0m\u001b[1;33m\u001b[0m\u001b[1;33m\u001b[0m\u001b[1;33m\u001b[0m\u001b[0m\n\u001b[1;32m----> 5\u001b[1;33m \u001b[0mplt\u001b[0m\u001b[1;33m.\u001b[0m\u001b[0mscatter\u001b[0m\u001b[1;33m(\u001b[0m\u001b[0mtrain\u001b[0m\u001b[1;33m.\u001b[0m\u001b[0mAge18Acuity\u001b[0m\u001b[1;33m,\u001b[0m \u001b[0mtrain\u001b[0m\u001b[1;33m.\u001b[0m\u001b[0mAge30Acuity\u001b[0m\u001b[1;33m,\u001b[0m  \u001b[0mcolor\u001b[0m\u001b[1;33m=\u001b[0m\u001b[1;34m'blue'\u001b[0m\u001b[1;33m)\u001b[0m\u001b[1;33m\u001b[0m\u001b[1;33m\u001b[0m\u001b[0m\n\u001b[0m\u001b[0;32m      6\u001b[0m \u001b[1;33m\u001b[0m\u001b[0m\n\u001b[0;32m      7\u001b[0m \u001b[1;33m\u001b[0m\u001b[0m\n",
      "\u001b[1;31mNameError\u001b[0m: name 'train' is not defined"
     ]
    }
   ],
   "source": [
    "\n",
    "#print the fit line over the data\n",
    "from sklearn.metrics import mean_absolute_error\n",
    "\n",
    "#print scatter graph of the data\n",
    "plt.scatter(train.Age18Acuity, train.Age30Acuity,  color='blue') \n",
    "\n",
    "\n",
    "x1 = df.Age18Acuity\n",
    "y1 = 0.12762357*df.InitialAcuity + (0.92763207*df.Age18Acuity)\n",
    "\n",
    "#calculate the bias coefficient\n",
    "y0 = 0.12762357*train.InitialAcuity + (0.92763207*train.Age18Acuity)\n",
    "z1 = sum(abs(y0 - train.Age30Acuity)) / len(train)\n",
    "\n",
    "#print the fit line\n",
    "plt.plot(x1,y1+z1, color = 'red', label = \"With Bias Coefficient\" )\n",
    "\n",
    "#version 2\n",
    "plt.plot(x1,y1, color = 'green', label = \"Without Bias Coefficient\")\n",
    "\n",
    "plt.legend(bbox_to_anchor=(0., 1.02, 1., .102), loc='lower left',\n",
    "           ncol=2, mode=\"expand\", borderaxespad=0.)\n",
    "\n",
    "#data label\n",
    "plt.xlabel(\"Age 18 Acuity\")\n",
    "plt.ylabel(\"Age 30 Acuity\")\n",
    "\n",
    "plt.title(\"Predicting \")"
   ]
  },
  {
   "cell_type": "code",
   "execution_count": 17,
   "metadata": {},
   "outputs": [
    {
     "ename": "NameError",
     "evalue": "name 'test' is not defined",
     "output_type": "error",
     "traceback": [
      "\u001b[1;31m---------------------------------------------------------------------------\u001b[0m",
      "\u001b[1;31mNameError\u001b[0m                                 Traceback (most recent call last)",
      "\u001b[1;32m<ipython-input-17-c1190aee0c29>\u001b[0m in \u001b[0;36m<module>\u001b[1;34m\u001b[0m\n\u001b[0;32m      1\u001b[0m \u001b[1;31m# prediction\u001b[0m\u001b[1;33m\u001b[0m\u001b[1;33m\u001b[0m\u001b[1;33m\u001b[0m\u001b[0m\n\u001b[1;32m----> 2\u001b[1;33m \u001b[0my_hat\u001b[0m\u001b[1;33m=\u001b[0m \u001b[0mregr\u001b[0m\u001b[1;33m.\u001b[0m\u001b[0mpredict\u001b[0m\u001b[1;33m(\u001b[0m\u001b[0mtest\u001b[0m\u001b[1;33m[\u001b[0m\u001b[1;33m[\u001b[0m\u001b[1;34m'InitialAcuity'\u001b[0m\u001b[1;33m,\u001b[0m\u001b[1;34m'Age18Acuity'\u001b[0m\u001b[1;33m]\u001b[0m\u001b[1;33m]\u001b[0m\u001b[1;33m)\u001b[0m\u001b[1;33m\u001b[0m\u001b[1;33m\u001b[0m\u001b[0m\n\u001b[0m\u001b[0;32m      3\u001b[0m \u001b[0mx\u001b[0m \u001b[1;33m=\u001b[0m \u001b[0mnp\u001b[0m\u001b[1;33m.\u001b[0m\u001b[0masanyarray\u001b[0m\u001b[1;33m(\u001b[0m\u001b[0mtest\u001b[0m\u001b[1;33m[\u001b[0m\u001b[1;33m[\u001b[0m\u001b[1;34m'InitialAcuity'\u001b[0m\u001b[1;33m,\u001b[0m \u001b[1;34m'Age18Acuity'\u001b[0m\u001b[1;33m]\u001b[0m\u001b[1;33m]\u001b[0m\u001b[1;33m)\u001b[0m\u001b[1;33m\u001b[0m\u001b[1;33m\u001b[0m\u001b[0m\n\u001b[0;32m      4\u001b[0m \u001b[0my\u001b[0m \u001b[1;33m=\u001b[0m \u001b[0mnp\u001b[0m\u001b[1;33m.\u001b[0m\u001b[0masanyarray\u001b[0m\u001b[1;33m(\u001b[0m\u001b[0mtest\u001b[0m\u001b[1;33m[\u001b[0m\u001b[1;33m[\u001b[0m\u001b[1;34m'Age30Acuity'\u001b[0m\u001b[1;33m]\u001b[0m\u001b[1;33m]\u001b[0m\u001b[1;33m)\u001b[0m\u001b[1;33m\u001b[0m\u001b[1;33m\u001b[0m\u001b[0m\n\u001b[0;32m      5\u001b[0m print(\"Residual sum of squares: %.2f\"\n",
      "\u001b[1;31mNameError\u001b[0m: name 'test' is not defined"
     ]
    }
   ],
   "source": [
    "# prediction\n",
    "y_hat= regr.predict(test[['InitialAcuity','Age18Acuity']])\n",
    "x = np.asanyarray(test[['InitialAcuity', 'Age18Acuity']])\n",
    "y = np.asanyarray(test[['Age30Acuity']])\n",
    "print(\"Residual sum of squares: %.2f\"\n",
    "      % np.mean((y_hat - y) ** 2))\n",
    "\n",
    "# Explained variance score: 1 is perfect prediction\n",
    "print('Variance score: %.2f' % regr.score(x, y))\n",
    "#  Best possible score is 1.0, lower values are worse."
   ]
  },
  {
   "cell_type": "code",
   "execution_count": null,
   "metadata": {},
   "outputs": [],
   "source": []
  },
  {
   "cell_type": "code",
   "execution_count": 19,
   "metadata": {},
   "outputs": [
    {
     "data": {
      "image/png": "[encoded data removed]",
      "text/plain": [
       "<Figure size 432x288 with 1 Axes>"
      ]
     },
     "metadata": {
      "needs_background": "light"
     },
     "output_type": "display_data"
    }
   ],
   "source": [
    "# create a data array only with data with TypeAge30 = 2?\n",
    "\n",
    "Contact = df.loc[df['TypeAt30'] == 2]\n",
    "\n",
    "plt.scatter(Contact.Age18Acuity, Contact.Age30Acuity,  color='green')\n",
    "plt.xlabel(\"Age 18 Visual Acuity\")\n",
    "plt.ylabel(\"Age 30 Acuity\")\n",
    "plt.title(\"Wearing Contact\")\n",
    "plt.show()\n"
   ]
  },
  {
   "cell_type": "code",
   "execution_count": null,
   "metadata": {},
   "outputs": [],
   "source": []
  },
  {
   "cell_type": "code",
   "execution_count": null,
   "metadata": {},
   "outputs": [],
   "source": []
  }
 ],
 "metadata": {
  "kernelspec": {
   "display_name": "Python 3",
   "language": "python",
   "name": "python3"
  },
  "language_info": {
   "codemirror_mode": {
    "name": "ipython",
    "version": 3
   },
   "file_extension": ".py",
   "mimetype": "text/x-python",
   "name": "python",
   "nbconvert_exporter": "python",
   "pygments_lexer": "ipython3",
   "version": "3.7.6"
  }
 },
 "nbformat": 4,
 "nbformat_minor": 4
}
